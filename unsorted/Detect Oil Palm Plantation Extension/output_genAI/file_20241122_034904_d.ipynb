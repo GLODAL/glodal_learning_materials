{
 "cells": [
  {
   "cell_type": "markdown",
   "id": "31449ed0",
   "metadata": {},
   "source": [
    "# Training Material: Detecting Change with ALOS-2 Two-Time Period Data"
   ]
  },
  {
   "cell_type": "markdown",
   "id": "e8dedaf6",
   "metadata": {},
   "source": [
    "**Module 1: Introduction to ALOS-2 and Change Detection**"
   ]
  },
  {
   "cell_type": "markdown",
   "id": "d36ab3a0",
   "metadata": {},
   "source": [
    "* 1.1 Introduction to ALOS-2 Satellite\n",
    "    * Overview of ALOS-2 mission and capabilities (Reference: EO Portal, JAXA website)\n",
    "    * Sensor specifications: PALSAR-2 (Reference: EO Portal, JAXA website)\n",
    "    * Advantages of L-band SAR for change detection, especially in forested areas (Reference: ResearchGate article on SAR mosaics)\n",
    "* 1.2 Principles of Change Detection with SAR Data\n",
    "    * Concept of backscatter and its relationship to land cover\n",
    "    * Impact of different polarizations (HH, HV)\n",
    "    * Rationale for using two-time period data"
   ]
  },
  {
   "cell_type": "markdown",
   "id": "2faab67f",
   "metadata": {},
   "source": [
    "**Module 2: Data Acquisition and Preprocessing**"
   ]
  },
  {
   "cell_type": "markdown",
   "id": "92b8c4fc",
   "metadata": {},
   "source": [
    "* 2.1 Accessing ALOS-2 Data\n",
    "    * Downloading ALOS-2 data from JAXA (Reference: JAXA website) or ASF DAAC\n",
    "* 2.2 Preprocessing Steps\n",
    "    * Radiometric Calibration: Converting digital numbers to backscatter (Reference: provided code examples, in-text formulas)\n",
    "    * Speckle Filtering: Using a Lee filter to reduce noise (Reference: provided code examples, research articles)\n",
    "    * Geometric Correction (if necessary): Ensuring images align spatially"
   ]
  },
  {
   "cell_type": "markdown",
   "id": "9e224322",
   "metadata": {},
   "source": [
    "**Module 3: Change Detection Techniques**"
   ]
  },
  {
   "cell_type": "markdown",
   "id": "55125941",
   "metadata": {},
   "source": [
    "* 3.1 Image Differencing\n",
    "    * Subtracting pixel values between two time periods (Reference: provided code examples)\n",
    "    * Identifying areas of significant change based on the difference\n",
    "* 3.2 Thresholding\n",
    "    * Setting a threshold to classify change vs. no change (Reference: provided code examples)\n",
    "    * Exploring different thresholding methods (e.g., manual, automatic like Otsu's method, if applicable)"
   ]
  },
  {
   "cell_type": "markdown",
   "id": "74d905e9",
   "metadata": {},
   "source": [
    "**Module 4: Visualization and Interpretation**"
   ]
  },
  {
   "cell_type": "markdown",
   "id": "5efca173",
   "metadata": {},
   "source": [
    "* 4.1 Visualizing Change Maps\n",
    "    * Displaying change areas using different color schemes (Reference: provided code examples, matplotlib)\n",
    "* 4.2 Interpreting Results\n",
    "    * Relating observed changes to potential land cover transformations (e.g., deforestation, urban development)\n",
    "    * Comparing with optical imagery if available (Reference: MDPI articles on combining SAR and optical data)\n",
    "* 4.3 Time-Series Analysis (Optional, if extending beyond two time periods)\n",
    "    * Preparing time-series data: Layer stacking (Reference: provided code examples)\n",
    "    * Visualizing and interpreting time-series graphs using tools like the Temporal/Spectral Profile tool in QGIS (Reference: provided instructions and screenshots)"
   ]
  },
  {
   "cell_type": "markdown",
   "id": "b1f7a510",
   "metadata": {},
   "source": [
    "**Module 5: Accuracy Assessment (Optional)**"
   ]
  },
  {
   "cell_type": "markdown",
   "id": "4f98ddf3",
   "metadata": {},
   "source": [
    "* 5.1 Introduction to Accuracy Assessment\n",
    "    * Importance of validating change detection results\n",
    "* 5.2 Creating a Confusion Matrix\n",
    "    * Comparing classified change map with ground truth data (Reference: ArcGIS documentation, IBM explanation)\n",
    "    * Calculating overall accuracy and Kappa coefficient"
   ]
  },
  {
   "cell_type": "markdown",
   "id": "386de1a0",
   "metadata": {},
   "source": [
    "**Hands-on Exercises:**"
   ]
  },
  {
   "cell_type": "markdown",
   "id": "aa6e37f3",
   "metadata": {},
   "source": [
    "Throughout the training, integrate practical exercises using the provided code examples and datasets. These exercises should cover:\n",
    "\n",
    "* Loading and visualizing ALOS-2 data using Python (rasterio, matplotlib)\n",
    "* Performing radiometric calibration and speckle filtering\n",
    "* Implementing image differencing and thresholding\n",
    "* Creating and interpreting change maps\n",
    "* (Optional) Generating and interpreting time-series graphs\n",
    "* (Optional) Performing accuracy assessment"
   ]
  },
  {
   "cell_type": "code",
   "execution_count": null,
   "id": "da5896d8",
   "metadata": {},
   "outputs": [],
   "source": [
    "import rasterio\n",
    "import matplotlib.pyplot as plt\n",
    "\n",
    "# Example: Loading and visualizing ALOS-2 data\n",
    "with rasterio.open('example.tif') as src:\n",
    "    image = src.read(1)\n",
    "plt.imshow(image, cmap='gray')\n",
    "plt.show()"
   ]
  }
 ],
 "metadata": {
  "kernelspec": {
   "display_name": "Python 3 (ipykernel)",
   "language": "python",
   "name": "python3"
  },
  "language_info": {
   "codemirror_mode": {
    "name": "ipython",
    "version": 3
   },
   "file_extension": ".py",
   "mimetype": "text/x-python",
   "name": "python",
   "nbconvert_exporter": "python",
   "pygments_lexer": "ipython3",
   "version": "3.11.6"
  }
 },
 "nbformat": 4,
 "nbformat_minor": 5
}
