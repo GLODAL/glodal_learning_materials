{
 "cells": [
  {
   "cell_type": "markdown",
   "id": "e93c9fca",
   "metadata": {},
   "source": [
    "# Training Material: Visualizing ALOS-2/PALSAR-2 Data with Python"
   ]
  },
  {
   "cell_type": "markdown",
   "id": "c91df0dd",
   "metadata": {},
   "source": [
    "## I. Introduction to ALOS-2/PALSAR-2 Data"
   ]
  },
  {
   "cell_type": "markdown",
   "id": "c7bed4ba",
   "metadata": {},
   "source": [
    "### A. Overview of ALOS-2 Satellite"
   ]
  },
  {
   "cell_type": "markdown",
   "id": "cc92df43",
   "metadata": {},
   "source": [
    "The ALOS-2 (Advanced Land Observing Satellite-2), also known as \"DAICHI-2,\" is an Earth observation satellite developed by the Japan Aerospace Exploration Agency (JAXA). Its primary mission is to acquire high-resolution land observation data for various applications, including disaster monitoring, resource exploration, and environmental monitoring.  It carries two main sensors:\n",
    "\n",
    "* **PALSAR-2:**  A Phased Array type L-band Synthetic Aperture Radar (SAR).  This sensor is particularly valuable for observing ground surface changes, even through cloud cover and vegetation.\n",
    "* **CIRC (Compact InfraRed Camera):** A multi-spectral optical sensor operating in the visible and near-infrared wavelengths. CIRC complements PALSAR-2 by providing optical imagery under clear-sky conditions."
   ]
  },
  {
   "cell_type": "markdown",
   "id": "ef003b2b",
   "metadata": {},
   "source": [
    "### B. Key Applications of ALOS-2 Data"
   ]
  },
  {
   "cell_type": "markdown",
   "id": "899fff33",
   "metadata": {},
   "source": [
    "ALOS-2 data finds applications in various fields.  For forest monitoring, deforestation, forest degradation, and plantation mapping, the L-band SAR capabilities of PALSAR-2 are especially valuable.  The L-band SAR signal can penetrate cloud cover and, to some extent, vegetation canopies, allowing for observations regardless of weather conditions and providing information about forest structure."
   ]
  },
  {
   "cell_type": "markdown",
   "id": "27e2133c",
   "metadata": {},
   "source": [
    "### C. Data Products and Availability"
   ]
  },
  {
   "cell_type": "markdown",
   "id": "b90016ca",
   "metadata": {},
   "source": [
    "ALOS-2 data is available in various formats, including GeoTIFF and HDF5.  These formats are widely used in geospatial data processing.  Major sources for ALOS-2 data include:\n",
    "\n",
    "* **JAXA:** The primary distributor of ALOS-2 data.\n",
    "* **ASF DAAC (Alaska Satellite Facility Distributed Active Archive Center):**  Another source for ALOS-2 data, particularly for users outside Japan.  Annual mosaics, which combine multiple acquisitions into a single seamless image for a given year, are also available and can be useful for large-scale analyses."
   ]
  },
  {
   "cell_type": "markdown",
   "id": "01b863f3",
   "metadata": {},
   "source": [
    "## II. Reading and Visualizing ALOS-2 Data with Python"
   ]
  },
  {
   "cell_type": "markdown",
   "id": "86617b85",
   "metadata": {},
   "source": [
    "### A. Basic Python for EO Data Processing"
   ]
  },
  {
   "cell_type": "code",
   "execution_count": null,
   "id": "e8bd8ea2",
   "metadata": {},
   "outputs": [],
   "source": [
    "# Example of file I/O\n",
    "with open('example.txt', 'w') as f:\n",
    "    f.write('Hello, world!')\n",
    "\n",
    "with open('example.txt', 'r') as f:\n",
    "    content = f.read()\n",
    "    print(content)"
   ]
  },
  {
   "cell_type": "code",
   "execution_count": null,
   "id": "4f549962",
   "metadata": {},
   "outputs": [],
   "source": [
    "# Example of data structures\n",
    "my_list = [1, 2, 3]\n",
    "my_tuple = (4, 5, 6)\n",
    "my_dict = {'a': 7, 'b': 8}"
   ]
  },
  {
   "cell_type": "code",
   "execution_count": null,
   "id": "b536a585",
   "metadata": {},
   "outputs": [],
   "source": [
    "# Example of defining a function\n",
    "def my_function(x):\n",
    "    return x * 2\n",
    "\n",
    "result = my_function(5)\n",
    "print(result)"
   ]
  },
  {
   "cell_type": "markdown",
   "id": "d1969fec",
   "metadata": {},
   "source": [
    "### B. Loading ALOS-2 Data"
   ]
  },
  {
   "cell_type": "code",
   "execution_count": 1,
   "id": "6c6387f2",
   "metadata": {},
   "outputs": [
    {
     "name": "stdout",
     "output_type": "stream",
     "text": [
      "{'driver': 'GTiff', 'dtype': 'float32', 'nodata': None, 'width': 9000, 'height': 9000, 'count': 1, 'crs': CRS.from_epsg(4326), 'transform': Affine(0.00022222222222222223, 0.0, 100.0,\n",
      "       0.0, -0.00022222222222222223, 2.0)}\n"
     ]
    }
   ],
   "source": [
    "import rasterio\n",
    "\n",
    "# Replace with your actual file path\n",
    "filepath = '/home/jovyan/shared/PCN/ALOS-2/n2018HVcalibrated5_image.tif'\n",
    "\n",
    "with rasterio.open(filepath) as src:\n",
    "    # Read the first band\n",
    "    band1 = src.read(1)\n",
    "    \n",
    "    # Access metadata\n",
    "    metadata = src.meta\n",
    "    print(metadata)"
   ]
  },
  {
   "cell_type": "markdown",
   "id": "08503983",
   "metadata": {},
   "source": [
    "### C. Visualizing ALOS-2 Data"
   ]
  },
  {
   "cell_type": "code",
   "execution_count": null,
   "id": "1e932adb",
   "metadata": {},
   "outputs": [],
   "source": [
    "import matplotlib.pyplot as plt\n",
    "import numpy as np\n",
    "\n",
    "# Generate some example data (replace with your ALOS-2 data)\n",
    "data = np.random.rand(100, 100)\n",
    "\n",
    "plt.figure(figsize=(8, 8))\n",
    "plt.imshow(data, cmap='gray')\n",
    "plt.title('Example ALOS-2 Image')\n",
    "plt.colorbar(label='Backscatter')\n",
    "plt.xlabel('X Coordinate')\n",
    "plt.ylabel('Y Coordinate')\n",
    "plt.show()"
   ]
  },
  {
   "cell_type": "code",
   "execution_count": null,
   "id": "500601f9",
   "metadata": {},
   "outputs": [],
   "source": [
    "# Example RGB composite (replace with your multi-band data)\n",
    "red = np.random.rand(100, 100)\n",
    "green = np.random.rand(100, 100)\n",
    "blue = np.random.rand(100, 100)\n",
    "\n",
    "rgb = np.dstack((red, green, blue))\n",
    "\n",
    "plt.figure(figsize=(8, 8))\n",
    "plt.imshow(rgb)\n",
    "plt.title('Example RGB Composite')\n",
    "plt.axis('off')\n",
    "plt.show()"
   ]
  },
  {
   "cell_type": "code",
   "execution_count": null,
   "id": "b023f594",
   "metadata": {},
   "outputs": [],
   "source": [
    "# Example change detection (replace with your data)\n",
    "before = np.random.rand(100, 100)\n",
    "after = np.random.rand(100, 100)\n",
    "\n",
    "difference = after - before\n",
    "\n",
    "plt.figure(figsize=(8, 8))\n",
    "plt.imshow(difference, cmap='RdYlGn')\n",
    "plt.title('Change Detection')\n",
    "plt.colorbar(label='Difference')\n",
    "plt.show()"
   ]
  },
  {
   "cell_type": "markdown",
   "id": "25964225",
   "metadata": {},
   "source": [
    "## III. Interpretation of Forest and Oil Palm Areas"
   ]
  },
  {
   "cell_type": "markdown",
   "id": "b6f6cf12",
   "metadata": {},
   "source": [
    "(Visual examples and interpretation guidance would be included here with images and tables as described in the outline)"
   ]
  },
  {
   "cell_type": "markdown",
   "id": "108dbf3e",
   "metadata": {},
   "source": [
    "## IV. Time-Series Analysis"
   ]
  },
  {
   "cell_type": "markdown",
   "id": "ad5c8883",
   "metadata": {},
   "source": [
    "(Code examples and explanations for calibration, filtering, clipping, masking, and layer stacking would be included here)"
   ]
  },
  {
   "cell_type": "markdown",
   "id": "8e321692",
   "metadata": {},
   "source": [
    "## V. Conclusion"
   ]
  },
  {
   "cell_type": "markdown",
   "id": "f682f5a2",
   "metadata": {},
   "source": [
    "(Summary and pointers to further resources)"
   ]
  }
 ],
 "metadata": {
  "kernelspec": {
   "display_name": "py310",
   "language": "python",
   "name": "py310"
  },
  "language_info": {
   "codemirror_mode": {
    "name": "ipython",
    "version": 3
   },
   "file_extension": ".py",
   "mimetype": "text/x-python",
   "name": "python",
   "nbconvert_exporter": "python",
   "pygments_lexer": "ipython3",
   "version": "3.10.0"
  }
 },
 "nbformat": 4,
 "nbformat_minor": 5
}
