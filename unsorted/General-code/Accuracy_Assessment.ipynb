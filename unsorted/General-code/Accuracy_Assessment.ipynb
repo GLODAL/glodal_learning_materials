{
 "cells": [
  {
   "cell_type": "markdown",
   "id": "c66acc08",
   "metadata": {},
   "source": [
    "## Training Material Outline: Accuracy Assessment of Remote Sensing Data\n",
    "\n",
    "This training material will guide you through the process of conducting accuracy assessments for thematic maps or classified images derived from remote sensing data."
   ]
  },
  {
   "cell_type": "markdown",
   "id": "751bb101",
   "metadata": {},
   "source": [
    "**I. Introduction**\n",
    "\n",
    "* **What is Accuracy Assessment?**\n",
    "    * Definition:  Verifying the accuracy of interpreted/classified remote sensing data by comparing it to ground truth.\n",
    "    * Importance: Ensuring the reliability and usability of remote sensing products.\n",
    "    * Qualitative vs. Quantitative Assessment: Briefly explain the difference.\n",
    "* **Objectives of this Training:**\n",
    "    * Understand the concept of accuracy assessment.\n",
    "    * Learn how to create and interpret an error matrix.\n",
    "    * Calculate and interpret key accuracy metrics (Overall Accuracy, Producer's Accuracy, Consumer's Accuracy, Kappa Coefficient).\n",
    "    * Apply these concepts using Python and relevant libraries."
   ]
  },
  {
   "cell_type": "markdown",
   "id": "9119eddb",
   "metadata": {},
   "source": [
    "**II.  Core Concepts**\n",
    "\n",
    "* **Ground Truth Data:**\n",
    "    * Definition:  Independently collected data representing the “true” conditions on the ground.\n",
    "    * Sources: Field surveys, high-resolution imagery, existing reference maps.\n",
    "    * Importance of representative and accurate ground truth data.\n",
    "* **Error Matrix (Confusion Matrix):**\n",
    "    * Structure: Rows represent ground truth, columns represent classified data.\n",
    "    * Interpretation of cells (True Positives, True Negatives, False Positives, False Negatives).\n",
    "    * Example error matrix.\n",
    "* **Accuracy Metrics:**\n",
    "    * **Overall Accuracy:**  Percentage of correctly classified pixels.  Formula and interpretation.\n",
    "    * **Producer's Accuracy (PA):**  Accuracy from the data producer's perspective.  Focus on errors of omission (missed classifications). Formula and interpretation.\n",
    "    * **Consumer's Accuracy (CA):** Accuracy from the data user's perspective. Focus on errors of commission (incorrect classifications). Formula and interpretation.\n",
    "    * **Kappa Coefficient:**  Measure of agreement correcting for chance agreement. Interpretation of Kappa values."
   ]
  },
  {
   "cell_type": "markdown",
   "id": "a34ec7b2",
   "metadata": {},
   "source": [
    "**III. Practical Implementation using Python**"
   ]
  },
  {
   "cell_type": "code",
   "execution_count": 1,
   "id": "59eee33e",
   "metadata": {},
   "outputs": [],
   "source": [
    "# Import necessary libraries\n",
    "import geopandas as gpd\n",
    "import rasterio\n",
    "import numpy as np\n",
    "from sklearn.metrics import accuracy_score, cohen_kappa_score, confusion_matrix"
   ]
  },
  {
   "cell_type": "code",
   "execution_count": 2,
   "id": "5a51a636",
   "metadata": {},
   "outputs": [],
   "source": [
    "# Load vector data (replace with your shapefile path)\n",
    "vector_data = gpd.read_file('/home/jovyan/shared/Arissara/ALOS-2/sample-points/Indo_Random_sampling_points.shp')"
   ]
  },
  {
   "cell_type": "code",
   "execution_count": 3,
   "id": "7d56483b",
   "metadata": {},
   "outputs": [],
   "source": [
    "# Load raster data (replace with your raster file path)\n",
    "with rasterio.open('/home/jovyan/shared/Arissara/ALOS-2/Output/rm-noise_lee_calib_N01E102_sl_HH_water_extent_mask.tif') as src:\n",
    "    raster_data = src.read(1)\n",
    "    coords = [(x, y) for x, y in zip(vector_data.geometry.x, vector_data.geometry.y)]\n",
    "    raster_values = [val[0] for val in src.sample(coords)]"
   ]
  },
  {
   "cell_type": "code",
   "execution_count": 4,
   "id": "57c6002c",
   "metadata": {},
   "outputs": [],
   "source": [
    "# Extract ground truth labels\n",
    "ground_truth_labels = vector_data['class'].values"
   ]
  },
  {
   "cell_type": "code",
   "execution_count": 5,
   "id": "8f291062",
   "metadata": {},
   "outputs": [],
   "source": [
    "# Convert to NumPy arrays\n",
    "raster_values = np.array(raster_values)\n",
    "ground_truth_labels = np.array(ground_truth_labels)"
   ]
  },
  {
   "cell_type": "code",
   "execution_count": 6,
   "id": "153a4549",
   "metadata": {},
   "outputs": [
    {
     "name": "stdout",
     "output_type": "stream",
     "text": [
      "Overall Accuracy: 1.0\n",
      "Kappa Coefficient: 1.0\n",
      "Confusion Matrix:\n",
      "[[20  0]\n",
      " [ 0 20]]\n"
     ]
    }
   ],
   "source": [
    "# Calculate accuracy metrics\n",
    "overall_accuracy = accuracy_score(ground_truth_labels, raster_values)\n",
    "kappa = cohen_kappa_score(ground_truth_labels, raster_values)\n",
    "conf_matrix = confusion_matrix(ground_truth_labels, raster_values)\n",
    "\n",
    "print(f\"Overall Accuracy: {overall_accuracy}\")\n",
    "print(f\"Kappa Coefficient: {kappa}\")\n",
    "print(\"Confusion Matrix:\")\n",
    "print(conf_matrix)"
   ]
  },
  {
   "cell_type": "markdown",
   "id": "a07c2930-0ea5-4c98-a894-816f03489434",
   "metadata": {},
   "source": [
    "Here's what it means:\n",
    "\n",
    "- 20 (True Negative, TN): 20 points were correctly classified as non-water (0).\n",
    "- 0 (False Positive, FP): No points were incorrectly classified as water (1) when they should have been non-water (0).\n",
    "- 0 (False Negative, FN): No points were incorrectly classified as non-water (0) when they should have been water (1).\n",
    "- 20 (True Positive, TP): 20 points were correctly classified as water (1)."
   ]
  },
  {
   "cell_type": "code",
   "execution_count": null,
   "id": "1bdb7223-92eb-4080-8cb1-e2752d754875",
   "metadata": {},
   "outputs": [],
   "source": []
  }
 ],
 "metadata": {
  "kernelspec": {
   "display_name": "Python 3 (ipykernel)",
   "language": "python",
   "name": "python3"
  },
  "language_info": {
   "codemirror_mode": {
    "name": "ipython",
    "version": 3
   },
   "file_extension": ".py",
   "mimetype": "text/x-python",
   "name": "python",
   "nbconvert_exporter": "python",
   "pygments_lexer": "ipython3",
   "version": "3.11.6"
  }
 },
 "nbformat": 4,
 "nbformat_minor": 5
}
