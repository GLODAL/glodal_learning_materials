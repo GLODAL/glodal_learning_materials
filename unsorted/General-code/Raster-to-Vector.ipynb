{
 "cells": [
  {
   "cell_type": "markdown",
   "id": "0228e04d",
   "metadata": {},
   "source": [
    "# Training Materials: Raster to Vector Conversion with Same CRS"
   ]
  },
  {
   "cell_type": "markdown",
   "id": "b216ebbe",
   "metadata": {},
   "source": [
    "This notebook provides training on converting raster to vector data while maintaining the Coordinate Reference System (CRS)."
   ]
  },
  {
   "cell_type": "markdown",
   "id": "39295042",
   "metadata": {},
   "source": [
    "## I. Introduction to Raster and Vector Data"
   ]
  },
  {
   "cell_type": "markdown",
   "id": "b555e515",
   "metadata": {},
   "source": [
    "### A. Defining Raster Data"
   ]
  },
  {
   "cell_type": "markdown",
   "id": "c5bf7994",
   "metadata": {},
   "source": [
    "* Grid-based structure (pixels)\n",
    "* Examples: satellite imagery, elevation models\n",
    "* Advantages and disadvantages"
   ]
  },
  {
   "cell_type": "markdown",
   "id": "b4ce792d",
   "metadata": {},
   "source": [
    "### B. Defining Vector Data"
   ]
  },
  {
   "cell_type": "markdown",
   "id": "47f01915",
   "metadata": {},
   "source": [
    "* Point, line, and polygon geometries\n",
    "* Examples: roads, buildings, administrative boundaries\n",
    "* Advantages and disadvantages"
   ]
  },
  {
   "cell_type": "markdown",
   "id": "261f7440",
   "metadata": {},
   "source": [
    "### C. Understanding Coordinate Reference Systems (CRS)"
   ]
  },
  {
   "cell_type": "markdown",
   "id": "42d8c226",
   "metadata": {},
   "source": [
    "* Importance of CRS in spatial data\n",
    "* Common CRS (WGS84, UTM)\n",
    "* Checking CRS in different data formats (raster and vector)"
   ]
  },
  {
   "cell_type": "markdown",
   "id": "be0ad65b",
   "metadata": {},
   "source": [
    "### D. Why Maintain the Same CRS?"
   ]
  },
  {
   "cell_type": "markdown",
   "id": "33da157f",
   "metadata": {},
   "source": [
    "* Preventing spatial misalignment\n",
    "* Ensuring accurate analysis and visualization"
   ]
  },
  {
   "cell_type": "markdown",
   "id": "917de389",
   "metadata": {},
   "source": [
    "## II. Tools and Libraries"
   ]
  },
  {
   "cell_type": "markdown",
   "id": "5cdb7bc4-f8f1-4649-a177-f79a99df6d29",
   "metadata": {},
   "source": [
    "**A. Import Required Libraries**"
   ]
  },
  {
   "cell_type": "code",
   "execution_count": 1,
   "id": "a1df6871-b289-4362-bbc7-7c4703b08ebd",
   "metadata": {},
   "outputs": [],
   "source": [
    "import rasterio\n",
    "from rasterio.features import shapes\n",
    "import geopandas as gpd\n",
    "from shapely.geometry import shape\n",
    "import numpy as np"
   ]
  },
  {
   "cell_type": "markdown",
   "id": "bcf4b228-8b6c-40b2-bb6d-1ce34120789c",
   "metadata": {},
   "source": [
    "**B. Set Paths for Input and Output Files**"
   ]
  },
  {
   "cell_type": "code",
   "execution_count": 2,
   "id": "b1e55c94-8e62-4e0b-b460-b1fcd359a4d3",
   "metadata": {},
   "outputs": [],
   "source": [
    "# --- Step 1: Load the Raster File ---\n",
    "input_raster = '/home/jovyan/shared/Arissara/genAI/water_mask-Indonesia.tif'  # Replace with your raster file path\n",
    "output_vector = '/home/jovyan/shared/Arissara/genAI/water_mask-Indonesia.gpkg'  # Replace with desired output path"
   ]
  },
  {
   "cell_type": "markdown",
   "id": "dd353723-a40e-41eb-985f-dc9a501cf6b9",
   "metadata": {},
   "source": [
    "**C. Open the Raster File**"
   ]
  },
  {
   "cell_type": "code",
   "execution_count": 3,
   "id": "db12ac41-024b-4cf4-9520-9fd93d21f67f",
   "metadata": {},
   "outputs": [],
   "source": [
    "with rasterio.open(input_raster) as src:\n",
    "    raster = src.read(1)  # Read the first band\n",
    "    transform = src.transform  # Get affine transform\n",
    "    crs = src.crs  # Get Coordinate Reference System (CRS)"
   ]
  },
  {
   "cell_type": "markdown",
   "id": "8be2f202-7f2b-474b-a6a4-ad9b498ba6fc",
   "metadata": {},
   "source": [
    "**D. Threshold the Raster (Optional)**"
   ]
  },
  {
   "cell_type": "code",
   "execution_count": 4,
   "id": "4c996317-5317-44fa-8a02-0894f75d999d",
   "metadata": {},
   "outputs": [],
   "source": [
    "# --- Step 2: Optional Thresholding (Binary Mask) ---\n",
    "binary_raster = raster > 0  # Example threshold: pixels > 0"
   ]
  },
  {
   "cell_type": "markdown",
   "id": "824012cf-9c96-4d3d-89fb-e77d5427174e",
   "metadata": {},
   "source": [
    "**E. Vectorize the Raster**"
   ]
  },
  {
   "cell_type": "code",
   "execution_count": 5,
   "id": "a1aefabb-e788-4cb8-861c-249d87e6f6d8",
   "metadata": {},
   "outputs": [],
   "source": [
    "# --- Step 3: Vectorize the Raster ---\n",
    "# Extract polygons and their values\n",
    "results = (\n",
    "    {'properties': {'value': v}, 'geometry': shape(s)}\n",
    "    for s, v in shapes(binary_raster.astype(np.int16), transform=transform)\n",
    ")"
   ]
  },
  {
   "cell_type": "markdown",
   "id": "fc8175e1-61b8-461f-844e-be0f2099d184",
   "metadata": {},
   "source": [
    "**F. Convert Results to GeoDataFrame**"
   ]
  },
  {
   "cell_type": "code",
   "execution_count": 6,
   "id": "2f19da40-537e-4566-b482-851b6ef53b65",
   "metadata": {},
   "outputs": [],
   "source": [
    "# Convert to a GeoDataFrame\n",
    "geoms = list(results)\n",
    "gdf = gpd.GeoDataFrame.from_features(geoms, crs=crs.to_string())"
   ]
  },
  {
   "cell_type": "markdown",
   "id": "13cb439a-6d56-4707-9920-5034d295f688",
   "metadata": {},
   "source": [
    "**G. Save the Vectorized Data**"
   ]
  },
  {
   "cell_type": "code",
   "execution_count": 10,
   "id": "c405812a-5c79-44b0-a221-42e910068b12",
   "metadata": {},
   "outputs": [
    {
     "name": "stdout",
     "output_type": "stream",
     "text": [
      "                                            geometry  value\n",
      "0  POLYGON ((102.06837 1, 102.06837 0.99982, 102....    1.0\n",
      "1  POLYGON ((102.82931 1, 102.82931 0.99991, 102....    1.0\n",
      "2  POLYGON ((102.73102 0.99946, 102.73102 0.99928...    1.0\n",
      "3  POLYGON ((102.82949 0.9991, 102.82949 0.99901,...    1.0\n",
      "4  POLYGON ((102.03692 0.99847, 102.03692 0.99838...    1.0\n"
     ]
    }
   ],
   "source": [
    "# --- Step 4: Save the Vector Data ---\n",
    "gdf.to_file(output_vector, driver=\"GPKG\")  # Save as GeoPackage\n",
    "\n",
    "# Inspect the Output ---\n",
    "print(gdf.head())"
   ]
  },
  {
   "cell_type": "markdown",
   "id": "39d7469d-ada4-4b16-b9e2-c3ac9927f354",
   "metadata": {},
   "source": [
    "**H. Visualization (optional)**"
   ]
  },
  {
   "cell_type": "code",
   "execution_count": 11,
   "id": "ec137635-34b3-422d-9cf6-81296d7b24ae",
   "metadata": {},
   "outputs": [
    {
     "data": {
      "text/plain": [
       "<Axes: >"
      ]
     },
     "execution_count": 11,
     "metadata": {},
     "output_type": "execute_result"
    },
    {
     "data": {
      "image/png": "[encoded data removed]",
      "text/plain": [
       "<Figure size 640x480 with 2 Axes>"
      ]
     },
     "metadata": {},
     "output_type": "display_data"
    }
   ],
   "source": [
    "# Visualization (optional)\n",
    "gdf.plot(column='value', cmap='viridis', legend=True)"
   ]
  },
  {
   "cell_type": "code",
   "execution_count": null,
   "id": "1fb8fa6a-1ee8-4421-85e8-b60844399abc",
   "metadata": {},
   "outputs": [],
   "source": []
  }
 ],
 "metadata": {
  "kernelspec": {
   "display_name": "Python 3 (ipykernel)",
   "language": "python",
   "name": "python3"
  },
  "language_info": {
   "codemirror_mode": {
    "name": "ipython",
    "version": 3
   },
   "file_extension": ".py",
   "mimetype": "text/x-python",
   "name": "python",
   "nbconvert_exporter": "python",
   "pygments_lexer": "ipython3",
   "version": "3.11.6"
  }
 },
 "nbformat": 4,
 "nbformat_minor": 5
}
