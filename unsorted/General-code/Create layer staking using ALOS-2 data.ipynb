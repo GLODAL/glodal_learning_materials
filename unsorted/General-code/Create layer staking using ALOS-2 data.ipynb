{
 "cells": [
  {
   "cell_type": "markdown",
   "id": "91457690",
   "metadata": {},
   "source": [
    "# Training Material: ALOS-2 Layer Stacking"
   ]
  },
  {
   "cell_type": "markdown",
   "id": "a3e8808b",
   "metadata": {},
   "source": [
    "## Module 1: Layer Stacking (specifying individual file paths)\n",
    "\n",
    "To create a layer stacking using ALOS-2 data, you need to align multiple images (from different acquisition dates or polarizations) into a single multi-band GeoTIFF. Here's a step-by-step guide."
   ]
  },
  {
   "cell_type": "markdown",
   "id": "5627cb9a",
   "metadata": {},
   "source": [
    "## I. Prerequisites"
   ]
  },
  {
   "cell_type": "markdown",
   "id": "c2b5ac5d",
   "metadata": {},
   "source": [
    "* **Basic Python for Data Processing:**\n",
    "    * Data: ALOS-2 images (e.g., GeoTIFFs or other formats) calibrated and clipped to the Area of Interest (AOI).\n",
    "    * Software: Use Python with libraries like rasterio, numpy, and gdal."
   ]
  },
  {
   "cell_type": "code",
   "execution_count": 1,
   "id": "f29e056d",
   "metadata": {
    "tags": []
   },
   "outputs": [
    {
     "name": "stdout",
     "output_type": "stream",
     "text": [
      "Requirement already satisfied: rasterio in /opt/conda/lib/python3.10/site-packages (1.4.2)\n",
      "Requirement already satisfied: matplotlib in /opt/conda/lib/python3.10/site-packages (3.7.1)\n",
      "Requirement already satisfied: numpy in /opt/conda/lib/python3.10/site-packages (1.24.3)\n",
      "Requirement already satisfied: affine in /opt/conda/lib/python3.10/site-packages (from rasterio) (2.4.0)\n",
      "Requirement already satisfied: attrs in /opt/conda/lib/python3.10/site-packages (from rasterio) (23.1.0)\n",
      "Requirement already satisfied: certifi in /opt/conda/lib/python3.10/site-packages (from rasterio) (2024.8.30)\n",
      "Requirement already satisfied: click>=4.0 in /opt/conda/lib/python3.10/site-packages (from rasterio) (8.1.3)\n",
      "Requirement already satisfied: cligj>=0.5 in /opt/conda/lib/python3.10/site-packages (from rasterio) (0.7.2)\n",
      "Requirement already satisfied: click-plugins in /opt/conda/lib/python3.10/site-packages (from rasterio) (1.1.1)\n",
      "Requirement already satisfied: pyparsing in /opt/conda/lib/python3.10/site-packages (from rasterio) (3.0.9)\n",
      "Requirement already satisfied: contourpy>=1.0.1 in /opt/conda/lib/python3.10/site-packages (from matplotlib) (1.0.7)\n",
      "Requirement already satisfied: cycler>=0.10 in /opt/conda/lib/python3.10/site-packages (from matplotlib) (0.11.0)\n",
      "Requirement already satisfied: fonttools>=4.22.0 in /opt/conda/lib/python3.10/site-packages (from matplotlib) (4.39.4)\n",
      "Requirement already satisfied: kiwisolver>=1.0.1 in /opt/conda/lib/python3.10/site-packages (from matplotlib) (1.4.4)\n",
      "Requirement already satisfied: packaging>=20.0 in /opt/conda/lib/python3.10/site-packages (from matplotlib) (24.2)\n",
      "Requirement already satisfied: pillow>=6.2.0 in /opt/conda/lib/python3.10/site-packages (from matplotlib) (11.0.0)\n",
      "Requirement already satisfied: python-dateutil>=2.7 in /opt/conda/lib/python3.10/site-packages (from matplotlib) (2.8.2)\n",
      "Requirement already satisfied: six>=1.5 in /opt/conda/lib/python3.10/site-packages (from python-dateutil>=2.7->matplotlib) (1.16.0)\n",
      "\n",
      "\u001b[1m[\u001b[0m\u001b[34;49mnotice\u001b[0m\u001b[1;39;49m]\u001b[0m\u001b[39;49m A new release of pip is available: \u001b[0m\u001b[31;49m24.2\u001b[0m\u001b[39;49m -> \u001b[0m\u001b[32;49m24.3.1\u001b[0m\n",
      "\u001b[1m[\u001b[0m\u001b[34;49mnotice\u001b[0m\u001b[1;39;49m]\u001b[0m\u001b[39;49m To update, run: \u001b[0m\u001b[32;49mpip install --upgrade pip\u001b[0m\n",
      "Note: you may need to restart the kernel to use updated packages.\n"
     ]
    }
   ],
   "source": [
    "pip install rasterio matplotlib numpy"
   ]
  },
  {
   "cell_type": "markdown",
   "id": "575061f9",
   "metadata": {},
   "source": [
    "## II. Load ALOS-2 Images"
   ]
  },
  {
   "cell_type": "code",
   "execution_count": 2,
   "id": "91664646",
   "metadata": {
    "tags": []
   },
   "outputs": [],
   "source": [
    "import rasterio\n",
    "import numpy as np\n",
    "\n",
    "# Paths to ALOS-2 images (e.g., GeoTIFFs)\n",
    "image_paths = [\n",
    "    \"/home/jovyan/shared/Sirinya/gen_ai/preprocessed/HH-191127_filtered.tif\",  # Date 1\n",
    "    \"/home/jovyan/shared/Sirinya/gen_ai/preprocessed/HH-200610_filtered.tif\",  # Date 2\n",
    "    \"/home/jovyan/shared/Sirinya/gen_ai/preprocessed/HH-210609_filtered.tif\",  # Date 3\n",
    "]\n",
    "\n",
    "# Open the images and ensure alignment\n",
    "images = [rasterio.open(img) for img in image_paths]\n"
   ]
  },
  {
   "cell_type": "markdown",
   "id": "326a4632",
   "metadata": {},
   "source": [
    "## (Optional) Check Alignment\n",
    "\n",
    "Ensure all images have the same dimensions, resolution, and CRS (coordinate reference system)."
   ]
  },
  {
   "cell_type": "code",
   "execution_count": 4,
   "id": "74d8a75d-c275-472e-8453-21b8291c262b",
   "metadata": {
    "tags": []
   },
   "outputs": [
    {
     "name": "stdout",
     "output_type": "stream",
     "text": [
      "CRS: PROJCS[\"Geo-coded\",GEOGCS[\"ITRF97 (geocentric)\",DATUM[\"International_Terrestrial_Reference_Frame_1997\",SPHEROID[\"GRS 1980\",6378137,298.257222101004,AUTHORITY[\"EPSG\",\"7019\"]],AUTHORITY[\"EPSG\",\"6655\"]],PRIMEM[\"Greenwich\",0],UNIT[\"degree\",0.0174532925199433,AUTHORITY[\"EPSG\",\"9122\"]],AUTHORITY[\"EPSG\",\"4338\"]],PROJECTION[\"Transverse_Mercator\"],PARAMETER[\"latitude_of_origin\",0],PARAMETER[\"central_meridian\",135],PARAMETER[\"scale_factor\",0.9996],PARAMETER[\"false_easting\",500000],PARAMETER[\"false_northing\",0],UNIT[\"metre\",1,AUTHORITY[\"EPSG\",\"9001\"]],AXIS[\"Easting\",EAST],AXIS[\"Northing\",NORTH]], Shape: (1604, 1556), Resolution: (2.5, 2.5)\n",
      "CRS: PROJCS[\"Geo-coded\",GEOGCS[\"ITRF97 (geocentric)\",DATUM[\"International_Terrestrial_Reference_Frame_1997\",SPHEROID[\"GRS 1980\",6378137,298.257222101004,AUTHORITY[\"EPSG\",\"7019\"]],AUTHORITY[\"EPSG\",\"6655\"]],PRIMEM[\"Greenwich\",0],UNIT[\"degree\",0.0174532925199433,AUTHORITY[\"EPSG\",\"9122\"]],AUTHORITY[\"EPSG\",\"4338\"]],PROJECTION[\"Transverse_Mercator\"],PARAMETER[\"latitude_of_origin\",0],PARAMETER[\"central_meridian\",135],PARAMETER[\"scale_factor\",0.9996],PARAMETER[\"false_easting\",500000],PARAMETER[\"false_northing\",0],UNIT[\"metre\",1,AUTHORITY[\"EPSG\",\"9001\"]],AXIS[\"Easting\",EAST],AXIS[\"Northing\",NORTH]], Shape: (1604, 1556), Resolution: (2.5, 2.5)\n",
      "CRS: PROJCS[\"Geo-coded\",GEOGCS[\"ITRF97 (geocentric)\",DATUM[\"International_Terrestrial_Reference_Frame_1997\",SPHEROID[\"GRS 1980\",6378137,298.257222101004,AUTHORITY[\"EPSG\",\"7019\"]],AUTHORITY[\"EPSG\",\"6655\"]],PRIMEM[\"Greenwich\",0],UNIT[\"degree\",0.0174532925199433,AUTHORITY[\"EPSG\",\"9122\"]],AUTHORITY[\"EPSG\",\"4338\"]],PROJECTION[\"Transverse_Mercator\"],PARAMETER[\"latitude_of_origin\",0],PARAMETER[\"central_meridian\",135],PARAMETER[\"scale_factor\",0.9996],PARAMETER[\"false_easting\",500000],PARAMETER[\"false_northing\",0],UNIT[\"metre\",1,AUTHORITY[\"EPSG\",\"9001\"]],AXIS[\"Easting\",EAST],AXIS[\"Northing\",NORTH]], Shape: (1604, 1556), Resolution: (2.5, 2.5)\n",
      "Warning: Images are not aligned! Reprocess to align them.\n"
     ]
    }
   ],
   "source": [
    "for img in images:\n",
    "    print(f\"CRS: {img.crs}, Shape: {img.shape}, Resolution: {img.res}\")\n",
    "\n",
    "# Check extents\n",
    "bounds = [img.bounds for img in images]\n",
    "if len(set(bounds)) > 1:\n",
    "    print(\"Warning: Images are not aligned! Reprocess to align them.\")\n"
   ]
  },
  {
   "cell_type": "markdown",
   "id": "53219f3f-deb9-4615-842a-30832aac206e",
   "metadata": {},
   "source": [
    "## III. Stack Layers"
   ]
  },
  {
   "cell_type": "code",
   "execution_count": 3,
   "id": "7bf00d80-29bb-4e98-b63c-2b909260a2d2",
   "metadata": {
    "tags": []
   },
   "outputs": [
    {
     "name": "stdout",
     "output_type": "stream",
     "text": [
      "Stacked Data Shape: (3, 1604, 1556)\n"
     ]
    }
   ],
   "source": [
    "# Read image data and stack layers\n",
    "stacked_data = np.stack([img.read(1) for img in images], axis=0)\n",
    "\n",
    "# Print the shape of stacked data (should be [num_layers, height, width])\n",
    "print(f\"Stacked Data Shape: {stacked_data.shape}\")\n"
   ]
  },
  {
   "cell_type": "markdown",
   "id": "4a55cddf-3828-401d-8499-83c83a56d79d",
   "metadata": {},
   "source": [
    "## IV. Save Stacked Layers to a New GeoTIFF\n",
    "\n",
    "Write the stacked array to a new GeoTIFF file."
   ]
  },
  {
   "cell_type": "code",
   "execution_count": 5,
   "id": "c528cc9c-d789-411c-8239-5b312f5e8025",
   "metadata": {
    "tags": []
   },
   "outputs": [
    {
     "name": "stdout",
     "output_type": "stream",
     "text": [
      "Stacked image saved at /home/jovyan/shared/Sirinya/gen_ai/stacked_image.tif\n"
     ]
    }
   ],
   "source": [
    "output_path = \"/home/jovyan/shared/Sirinya/gen_ai/stacked_image.tif\"\n",
    "\n",
    "# Use the metadata from one of the input images\n",
    "meta = images[0].meta.copy()\n",
    "meta.update({\n",
    "    \"count\": len(images),  # Number of layers\n",
    "    \"dtype\": stacked_data.dtype,\n",
    "})\n",
    "\n",
    "# Write stacked layers\n",
    "with rasterio.open(output_path, \"w\", **meta) as dest:\n",
    "    for i in range(stacked_data.shape[0]):\n",
    "        dest.write(stacked_data[i, :, :], i + 1)  # Write each band\n",
    "print(f\"Stacked image saved at {output_path}\")\n"
   ]
  },
  {
   "cell_type": "code",
   "execution_count": null,
   "id": "25f3d4d2-59b5-4e8c-b478-78dfd6076a7d",
   "metadata": {},
   "outputs": [],
   "source": []
  },
  {
   "cell_type": "markdown",
   "id": "8c65913e-d53c-45b0-a435-8b40d6f7d290",
   "metadata": {},
   "source": [
    "## Module 2: Layer Stacking to work with a folder path instead of specifying individual file paths"
   ]
  },
  {
   "cell_type": "markdown",
   "id": "021c1c78-ccd7-4927-bb77-c9902021d1f8",
   "metadata": {},
   "source": [
    "## I. Load ALOS-2 Images"
   ]
  },
  {
   "cell_type": "code",
   "execution_count": 3,
   "id": "50f1ddcb-9e6e-4bd6-be74-b07eb6ec0b66",
   "metadata": {
    "tags": []
   },
   "outputs": [
    {
     "name": "stdout",
     "output_type": "stream",
     "text": [
      "Loaded images: ['/home/jovyan/shared/genAI/3_sirin/preprocessed/HH-191127_filtered.tif', '/home/jovyan/shared/genAI/3_sirin/preprocessed/HH-200304_filtered.tif', '/home/jovyan/shared/genAI/3_sirin/preprocessed/HH-200610_filtered.tif', '/home/jovyan/shared/genAI/3_sirin/preprocessed/HH-210303_filtered.tif', '/home/jovyan/shared/genAI/3_sirin/preprocessed/HH-210609_filtered.tif', '/home/jovyan/shared/genAI/3_sirin/preprocessed/HH-211124_filtered.tif', '/home/jovyan/shared/genAI/3_sirin/preprocessed/HH-220302_filtered.tif']\n"
     ]
    }
   ],
   "source": [
    "import os\n",
    "import rasterio\n",
    "import numpy as np\n",
    "\n",
    "# Specify the folder containing ALOS-2 images\n",
    "folder_path = \"/home/jovyan/shared/genAI/3_sirin/preprocessed\"\n",
    "\n",
    "# List all GeoTIFF files in the folder\n",
    "image_paths = [\n",
    "    os.path.join(folder_path, file)\n",
    "    for file in os.listdir(folder_path)\n",
    "    if file.endswith(\".tif\")  # Filter only GeoTIFF files\n",
    "]\n",
    "\n",
    "# Sort the file paths (optional, ensures consistent stacking order)\n",
    "image_paths.sort()\n",
    "\n",
    "# Open the images\n",
    "images = [rasterio.open(img) for img in image_paths]\n",
    "\n",
    "# Print file names to verify\n",
    "print(f\"Loaded images: {image_paths}\")\n"
   ]
  },
  {
   "cell_type": "markdown",
   "id": "7aa00d1a-9bca-45f7-8356-101739564572",
   "metadata": {},
   "source": [
    "## II. Stack Layers"
   ]
  },
  {
   "cell_type": "code",
   "execution_count": 4,
   "id": "d8c91dd6-2329-41a7-88ec-522138241290",
   "metadata": {},
   "outputs": [
    {
     "name": "stdout",
     "output_type": "stream",
     "text": [
      "Image layers stacked successfully.\n"
     ]
    }
   ],
   "source": [
    "# Stack the layers from multiple images\n",
    "stacked_data = np.stack([img.read(1) for img in images], axis=0)\n",
    "print(\"Image layers stacked successfully.\")\n"
   ]
  },
  {
   "cell_type": "markdown",
   "id": "2840fcbd-2ced-4ebe-b590-95fe3e8c8c2c",
   "metadata": {},
   "source": [
    "## III. Save the stacked layers to a new GeoTIFF"
   ]
  },
  {
   "cell_type": "code",
   "execution_count": 6,
   "id": "dd89902f-adf9-4646-9c6e-8a81bd277956",
   "metadata": {
    "tags": []
   },
   "outputs": [
    {
     "name": "stdout",
     "output_type": "stream",
     "text": [
      "Stacked image saved at /home/jovyan/shared/genAI/3_sirin/stacked_image_2.tif\n"
     ]
    }
   ],
   "source": [
    "# Define the output path for the stacked GeoTIFF\n",
    "output_path = \"/home/jovyan/shared/genAI/3_sirin/stacked_image_2.tif\"\n",
    "\n",
    "# Copy metadata from the first image and update for the stacked layers\n",
    "meta = images[0].meta.copy()\n",
    "meta.update({\n",
    "    \"count\": len(images),  # Number of layers\n",
    "    \"dtype\": stacked_data.dtype,\n",
    "})\n",
    "\n",
    "# Save the stacked layers to a new GeoTIFF\n",
    "with rasterio.open(output_path, \"w\", **meta) as dest:\n",
    "    for i in range(stacked_data.shape[0]):\n",
    "        dest.write(stacked_data[i, :, :], i + 1)  # Write each band\n",
    "print(f\"Stacked image saved at {output_path}\")\n"
   ]
  },
  {
   "cell_type": "code",
   "execution_count": null,
   "id": "982099a7-c8a7-4c43-8b9d-0ce3f047b8e7",
   "metadata": {},
   "outputs": [],
   "source": []
  }
 ],
 "metadata": {
  "kernelspec": {
   "display_name": "Python 3 (ipykernel)",
   "language": "python",
   "name": "python3"
  },
  "language_info": {
   "codemirror_mode": {
    "name": "ipython",
    "version": 3
   },
   "file_extension": ".py",
   "mimetype": "text/x-python",
   "name": "python",
   "nbconvert_exporter": "python",
   "pygments_lexer": "ipython3",
   "version": "3.10.11"
  }
 },
 "nbformat": 4,
 "nbformat_minor": 5
}
