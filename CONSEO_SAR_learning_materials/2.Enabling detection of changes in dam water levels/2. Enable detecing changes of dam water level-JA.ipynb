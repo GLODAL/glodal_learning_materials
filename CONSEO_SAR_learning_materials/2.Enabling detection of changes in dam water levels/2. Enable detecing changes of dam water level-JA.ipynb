{
 "cells": [
  {
   "cell_type": "markdown",
   "id": "9c8db6cb-e6e2-4119-b732-ac9d1b83a442",
   "metadata": {},
   "source": [
    "# 2. ALOS-2/PALSAR-2観測によるダム水位監視\n",
    "\n",
    "- このセクションは、ALOS-2によるダムの水位監視に興味のある学習者を対象としています。\n",
    "\n",
    "## 本演習教材の学習目標\n",
    "\n",
    "- スペックルノイズを低減する前処理 (オプション）\n",
    "- 八ッ場ダムのSAR衛星観測データの可視化\n",
    "- ダム操作の変化検出\n"
   ]
  },
  {
   "cell_type": "markdown",
   "id": "56b728d9",
   "metadata": {},
   "source": [
    "### ALOS-2の紹介"
   ]
  },
  {
   "cell_type": "markdown",
   "id": "83ff45b1",
   "metadata": {},
   "source": [
    "#### a. (基礎編) [ALOS-2データ画像の紹介](https://www.eoportal.org/satellite-missions/alos-2#alos-2-advanced-land-observing-satellite-2-sar-mission--daichi-2)\n",
    "\n",
    "このウェブサイトでは、ALOS-2（だいち2号）衛星の概要、ミッション、地球観測や災害監視のための高度な SAR 機能を紹介しています。\n",
    "学習者は、本コンテンツから以下の点を理解することができる：\n",
    "1. ALOS-2 の概要\n",
    "2. ミッション能力\n",
    "3. 性能仕様\n",
    "4. スペース・ハードウェア・コンポーネント\n",
    "5. ALOS-2（陸域観測技術衛星2号「だいち」）／だいち2号（SARミッション\n",
    "6. 探査機\n",
    "7. ミッション状況\n",
    "8. センサー補完 \n",
    "9. 地上システム\n",
    "\n",
    "#### b. (基本) [ALOS データ利用研究分野(研究事例)](https://www.eorc.jaxa.jp/ALOS/en/gallery/example.htm)\n",
    "\n",
    "NASDA の EORC では、ALOS データの利用研究分野を以下の 12 分野に分類している；\n",
    "\n",
    "- PRISM / AVNIR-2: PRISM および AVNIR-2 の評価には、センサ特性、画質、幾何学的校正、ラジオメトリック校正、妥当性確認、地理物理量の高速・高精度抽出手法の開発が含まれる。\n",
    "- PALSAR: PALSARの評価では、センサ特性、画質、幾何学的校正、ラジオメトリック校正、検証に加え、マイクロ波散乱とSAR干渉を利用した解析手法の向上に重点を置いています。\n",
    "- デジタル標高モデル（DEM）とマッピング\n",
    "- 土地利用モニタリングと土地被覆分類\n",
    "- 災害モニタリング\n",
    "- 地質調査と鉱物資源探査\n",
    "- 陸域生態系と林業管理\n",
    "- 海洋学・沿岸域関連研究\n",
    "- 雪氷関連研究\n",
    "- 農業管理\n",
    "- 水文学・水資源管理\n",
    "- 地理情報活用研究"
   ]
  },
  {
   "cell_type": "markdown",
   "id": "4d682dfa",
   "metadata": {},
   "source": [
    "はじめに本演習で利用するパッケージをインストールします。"
   ]
  },
  {
   "cell_type": "code",
   "execution_count": null,
   "id": "fb9c569f-e0fc-411f-8cde-cf0530e82b8a",
   "metadata": {},
   "outputs": [],
   "source": [
    "!conda install -c conda-forge numpy matplotlib scikit-image rasterio -y\n",
    "!pip install opencv-python"
   ]
  },
  {
   "cell_type": "markdown",
   "id": "28e874af-6e26-4870-ab83-aae9bbf827ff",
   "metadata": {},
   "source": [
    "## 2.1. ALOS-2 データの準備\n",
    "\n",
    "### 2.1.1. ALOS-2のデータをダウンロードする"
   ]
  },
  {
   "cell_type": "code",
   "execution_count": null,
   "id": "7f2577c0-59e1-4b7a-ad81-286c791181d3",
   "metadata": {},
   "outputs": [],
   "source": [
    "#!curl --output 2-Yamba.zip \"https://owncloud.glodal-inc.net/owncloud/index.php/s/fORunC9aDo38G5s/download\"\n",
    "\n",
    "import shutil, os\n",
    "shutil.unpack_archive(\"2-Yamba.zip\", \".\")\n",
    "os.chdir('Yamba')\n",
    "os.listdir()"
   ]
  },
  {
   "cell_type": "markdown",
   "id": "111688e3-61c9-48dc-8b21-fdba5f272b63",
   "metadata": {},
   "source": [
    "### 2.1.2 前処理（スペックルノイズ低減とDN変換）\n",
    "\n",
    "#### Leeフィルタによるスペックルノイズ低減\n",
    "\n",
    "Leeフィルターは、SAR（合成開口レーダー）画像のスペックルノイズを低減するために使用される技術です。スペックルノイズは、SAR観測に自然に発生する粒状のランダムなノイズで、画像解析に影響する場合が多くあります。\n",
    "\n",
    "以下のコードは、合成開口レーダー（SAR）画像のスペックルノイズを低減するために一般的に使用される**Leeフィルタ**を実装しています。このフィルタは、（`window_size`で定義されるサイズの）スライディングウィンドウを使用して画像内の各ピクセルを処理することで動作します。各窓について、局所的な平均と分散を計算し、画素にどの程度の平滑化を適用するかを制御する減衰係数(damping factor)を決定します。\n",
    "\n",
    "参考文献: \n",
    "- [SAR Image Despeckling Using Refined Lee Filter](https://ieeexplore.ieee.org/document/7334965)\n",
    "- [Digital Image Enhancement and Noise Filtering by Use of Local Statistics](https://ieeexplore.ieee.org/document/4766994?rsource=https:%2F%2Flinks.esri.com%2FNoiseFilteringUsingLocalStats)"
   ]
  },
  {
   "cell_type": "code",
   "execution_count": 3,
   "id": "cf470817-76f6-489d-920d-0ef7e9267591",
   "metadata": {},
   "outputs": [],
   "source": [
    "import numpy as np\n",
    "import matplotlib.pyplot as plt\n",
    "import rasterio\n",
    "from skimage import img_as_float\n",
    "from scipy.ndimage import uniform_filter\n",
    "\n",
    "\n",
    "import numpy as np\n",
    "from scipy.ndimage import uniform_filter\n",
    "\n",
    "# リー・フィルター関数を定義する\n",
    "\n",
    "\n",
    "def lee_filter(image, size):\n",
    "    \"\"\"\n",
    "    Applies the Lee filter to an input image to reduce speckle noise.\n",
    "    \n",
    "    Parameters:\n",
    "        image (numpy.ndarray): The input image to be filtered.\n",
    "        size (int or tuple): The size of the local neighborhood (e.g., window size).\n",
    "        \n",
    "    Returns:\n",
    "        numpy.ndarray: The filtered image.\n",
    "    \"\"\"\n",
    "    # Ensure the input image is a floating-point array for precision\n",
    "    image = image.astype(np.float32)\n",
    "    \n",
    "    # Calculate local mean and squared mean using uniform filter\n",
    "    local_mean = uniform_filter(image, size=size)\n",
    "    local_mean_sqr = uniform_filter(image**2, size=size)\n",
    "    \n",
    "    # Calculate local variance\n",
    "    local_variance = local_mean_sqr - local_mean**2\n",
    "    \n",
    "    # Estimate noise variance (overall variance of the image)\n",
    "    overall_variance = np.mean(local_variance)\n",
    "    \n",
    "    # Compute the filter weight\n",
    "    weight = local_variance / (local_variance + overall_variance)\n",
    "    weight = np.clip(weight, 0, 1)  # Ensure weight is in a valid range\n",
    "    \n",
    "    # Apply the Lee filter formula\n",
    "    filtered_image = local_mean + weight * (image - local_mean)\n",
    "    \n",
    "    return filtered_image\n"
   ]
  },
  {
   "cell_type": "markdown",
   "id": "bfe39eeb-a765-48ce-a0b3-6e6d16c6e667",
   "metadata": {},
   "source": [
    "#### DN値から後方散乱係数への変換\n",
    "\n",
    "複数の観測データを用いる時系列分析等においては画素値を後方散乱係数に変換する必要があります。詳細は[校正・検証](https://www.eorc.jaxa.jp/ALOS/jp/alos-2/a2_calval_j.htm)\n",
    "\n",
    "$$ \\sigma^0_{Q16} = 10 log_{10}<DN^2> + CF$$\n",
    "\n",
    "ただし、<>はノイズ低減のための平均化を表し、CFには-83.0 dBを用いる。以下にコーディング例を示します。"
   ]
  },
  {
   "cell_type": "code",
   "execution_count": 5,
   "id": "ef434ef6-9c86-46c6-ad7b-f6bd786c679a",
   "metadata": {},
   "outputs": [],
   "source": [
    "def calibrate_image(image):\n",
    "    image = img_as_float(image)\n",
    "    calibrated_image = (10 * np.log10(image**2)) - 83\n",
    "    return calibrated_image"
   ]
  },
  {
   "cell_type": "code",
   "execution_count": null,
   "id": "5f0bc048-99f7-42be-a197-65f35b27c090",
   "metadata": {},
   "outputs": [],
   "source": [
    "image_files"
   ]
  },
  {
   "cell_type": "markdown",
   "id": "b05d68fa-f48b-41d5-9360-6a5422bac403",
   "metadata": {},
   "source": [
    "##### 各画像データの前処理を実行\n",
    "\n",
    "前節で定義した関数を各画像データに処理し、結果を表示します。"
   ]
  },
  {
   "cell_type": "code",
   "execution_count": null,
   "id": "d71bb9b4-3d51-4704-aa08-a7ac2a538461",
   "metadata": {},
   "outputs": [],
   "source": [
    "import os, math, re\n",
    "\n",
    "# File handling\n",
    "image_files = [f for f in os.listdir() if f.endswith('.tif')]\n",
    "preprocessed_images = []\n",
    "\n",
    "for file in image_files:\n",
    "    with rasterio.open(file) as src:\n",
    "        if src.count >= 1:\n",
    "            img = src.read(1)  # Read the first band\n",
    "        else:\n",
    "            raise ValueError(f\"File {file} does not contain a valid band.\")\n",
    "    \n",
    "    # Step 1: Apply speckle filter\n",
    "    filtered_img = lee_filter(img, size=5)\n",
    "    \n",
    "    # Step 2: Convert to backscatter coefficients\n",
    "    calibrated_img = calibrate_image(filtered_img)\n",
    "    preprocessed_images.append(calibrated_img)\n",
    "\n",
    "# Define number of rows and compute columns dynamically\n",
    "nrows = 3\n",
    "ncols = math.ceil(len(preprocessed_images) / nrows)\n",
    "\n",
    "# Create subplots grid\n",
    "fig, axes = plt.subplots(nrows, ncols, figsize=(ncols * 4, nrows * 4))\n",
    "\n",
    "# Flatten axes to simplify indexing (even if nrows > 1)\n",
    "axes = axes.flatten()\n",
    "\n",
    "# Plot each image\n",
    "for i, image in enumerate(preprocessed_images):\n",
    "    axes[i].imshow(image, cmap='gray')\n",
    "    axes[i].axis('off')\n",
    "    axes[i].set_title(re.search(r\"-(\\d{6})-\", image_files[i]).group(1))\n",
    "\n",
    "# Turn off unused axes if there are any\n",
    "for ax in axes[len(preprocessed_images):]:\n",
    "    ax.axis('off')\n",
    "\n",
    "plt.tight_layout()\n",
    "plt.show()\n"
   ]
  },
  {
   "cell_type": "markdown",
   "id": "24b20926-f8f4-4e25-a0ad-c653c1a7411c",
   "metadata": {},
   "source": [
    "後方散乱係数が小さい領域（中央あたりの暗い領域）が水域を表します。10月11日から11月3日にかけて水域が出現しますが、これは[2019年台風19号による豪雨のため湛水した様子](https://ja.wikipedia.org/wiki/%E5%85%AB%E3%83%83%E5%A0%B4%E3%83%80%E3%83%A0#%E4%BB%A4%E5%92%8C%E5%85%83%E5%B9%B4%E6%9D%B1%E6%97%A5%E6%9C%AC%E5%8F%B0%E9%A2%A8)を表しています。その後も数ヶ月にわたって水面が見えることから時間をかけて放流した様子がうかがえます。"
   ]
  },
  {
   "cell_type": "markdown",
   "id": "8f8f7486-2890-4c8c-83a4-6a7ecbbf1345",
   "metadata": {},
   "source": [
    "## 2.2. カラー合成画像による変化の分析\n",
    "\n",
    "観測日が異なるSAR衛星データをカラー合成することで変化を分析できます。ここでは赤色チャンネルに2020年10月11日（台風前）、緑色・青色チャンネルに2019年11月3日（台風後）を割り当てる例を示します。"
   ]
  },
  {
   "cell_type": "code",
   "execution_count": null,
   "id": "2f868072-6aae-4208-b589-8c628b7f9ed0",
   "metadata": {},
   "outputs": [],
   "source": [
    "import rasterio\n",
    "import numpy as np\n",
    "import matplotlib.pyplot as plt\n",
    "\n",
    "red   = preprocessed_images[image_files.index('IMG-HH-ALOS2290760720-191011-UBSR2.1GUA.tif')]\n",
    "green = preprocessed_images[image_files.index('IMG-HH-ALOS2294160720-191103-UBSR2.1GUA.tif')]\n",
    "blue  = preprocessed_images[image_files.index('IMG-HH-ALOS2294160720-191103-UBSR2.1GUA.tif')]\n",
    "\n",
    "# バンドをRGB画像配列に積み上げる\n",
    "rgb_image = np.stack([red, green, blue], axis=-1)\n",
    "\n",
    "# より見やすくするためにバンドを正規化する（オプション）\n",
    "rgb_image = (rgb_image - rgb_image.min()) / (rgb_image.max() - rgb_image.min())  # Normalize to [0, 1]\n",
    "\n",
    "# RGBコンポジットを表示\n",
    "plt.figure(figsize=(10, 10))\n",
    "plt.imshow(rgb_image)\n",
    "plt.title(\"Color Composite with 191011 and 191103\")\n",
    "plt.axis(\"off\")\n",
    "plt.show()"
   ]
  },
  {
   "cell_type": "markdown",
   "id": "63abc496-a3f3-435f-ba84-39ace67f55cc",
   "metadata": {},
   "source": [
    "赤色で表れる領域が10月12日の豪雨によって冠水した領域を表します。また黒い領域は10月11日時点でも水面であることを表しています。"
   ]
  },
  {
   "cell_type": "markdown",
   "id": "cb3dd88e-362d-4c62-9cbf-d3136282c2dc",
   "metadata": {},
   "source": [
    "#### （オプショナル）RGB 合成画像をGeoTiffに保存する\n",
    "合成画像をGIS等で表示したい場合には、入力バンドと同じ空間情報（座標参照系やジオトランスフォームなど）を持つGeoTIFFとして保存します。以下のコードでは、入力バンドの1つ（例えば赤バンド）のCRSと変換を保持したまま、RGB合成を保存します。"
   ]
  },
  {
   "cell_type": "code",
   "execution_count": null,
   "id": "085abf73-4e75-41b5-bf6a-d7c23c44a39f",
   "metadata": {},
   "outputs": [],
   "source": [
    "meta_tif = 'IMG-HH-ALOS2290760720-191011-UBSR2.1GUA.tif'\n",
    "outfile = \"export.tif\"\n",
    "\n",
    "# メタデータを取得するには、赤いバンドをもう一度開きます\n",
    "with rasterio.open(meta_tif) as src:\n",
    "    # 3つのバンド（RGB）とfloat32データ型に対応するようにメタデータを更新。\n",
    "    rgb_meta = src.meta.copy()\n",
    "    rgb_meta.update({\n",
    "        \"count\": 3,           # RGB 3バンド\n",
    "        \"dtype\": \"float32\",   # 正規化画像のデータ型\n",
    "        \"driver\": \"GTiff\",    # 出力形式が GeoTIFF であることを確認する。\n",
    "        \"compress\": \"Deflate\" # ファイルサイズが膨れやすいので圧縮オプションを推奨\n",
    "    })\n",
    "\n",
    "    # RGB画像をGeoTIFFとして書き込む\n",
    "    with rasterio.open(outfile, \"w\", **rgb_meta) as dst:\n",
    "        # 各チャンネルを別々のバンドに書き込む\n",
    "        dst.write((rgb_image[:, :, 0] * 255).astype(\"uint8\"), 1)  # 赤チャンネル\n",
    "        dst.write((rgb_image[:, :, 1] * 255).astype(\"uint8\"), 2)  # 緑チャンネル\n",
    "        dst.write((rgb_image[:, :, 2] * 255).astype(\"uint8\"), 3)  # 青チャンネル\n",
    "\n",
    "print(f\"RGB composite image saved to {outfile}\")"
   ]
  },
  {
   "cell_type": "markdown",
   "id": "d1c6ec61-3ed7-4fd8-9740-56778bcb64c0",
   "metadata": {},
   "source": [
    "## 2.3. ダムの水域変化の検知\n",
    "\n",
    "２時期の差分画像を計算することで有意な変化を検出できます。本節では10月11日、11月3日を例にデータ解析を行います。\n",
    "- 台風19号は2019年10月12日に日本を直撃したため、台風前の画像には2019年10月11日の画像を使用する。\n",
    "- 台風後の画像には、2019年11月3日の画像を使用します。これは、台風後、最初に入手可能な画像である。\n",
    "\n",
    "まず観測データを画像に可視化して時期別に比較します。"
   ]
  },
  {
   "cell_type": "code",
   "execution_count": null,
   "id": "eefb23bc-1fdd-4f52-8e51-d979596f6332",
   "metadata": {},
   "outputs": [],
   "source": [
    "import rasterio\n",
    "import matplotlib.pyplot as plt\n",
    "\n",
    "pre_typhoon   = preprocessed_images[image_files.index('IMG-HH-ALOS2290760720-191011-UBSR2.1GUA.tif')]\n",
    "post_typhoon  = preprocessed_images[image_files.index('IMG-HH-ALOS2294160720-191103-UBSR2.1GUA.tif')]\n",
    "\n",
    "# Set up the figure for visualization\n",
    "fig, axes = plt.subplots(1, 2, figsize=(12, 6))\n",
    "\n",
    "# Plot each image and store one of them for the color bar\n",
    "im = axes[0].imshow(pre_typhoon, cmap='gray')  # Assign to `im` for color bar reference\n",
    "axes[0].set_title(\"Pre-Typhoon (No Water): 11 Oct 2019\")\n",
    "axes[0].axis(\"off\")\n",
    "\n",
    "axes[1].imshow(post_typhoon, cmap='gray')\n",
    "axes[1].set_title(\"Post-Typhoon (Almost Full Water Level): 3 Nov 2019\")\n",
    "axes[1].axis(\"off\")\n",
    "\n",
    "# Add a color bar below all images without overlapping\n",
    "cbar_ax = fig.add_axes([0.2, 0.01, 0.6, 0.02])  # Centered below all images\n",
    "fig.colorbar(im, cax=cbar_ax, orientation='horizontal').set_label('Backscaetter coefficient')\n",
    "\n",
    "plt.tight_layout()\n",
    "plt.show()"
   ]
  },
  {
   "cell_type": "markdown",
   "id": "dcd16a25-8e01-4a95-bc43-6b3d53066a79",
   "metadata": {},
   "source": [
    "- 台風前： 2019年10月11日、ダムは全面開通（2019年10月完成、2020年4月1日正式開通）していない。そのため、画像ではダム域の小さな川しか確認できない。\n",
    "- 台風後： 2019年11月3日、ダムは正式に開通していないにもかかわらず、ダムの水位は非常に高くなった。これは、2019年10月12日に台風ハギビスが日本を直撃し、大雨が降って八ッ場ダムの水位が急上昇した。"
   ]
  },
  {
   "cell_type": "markdown",
   "id": "257b3588-204f-4bed-a589-335491d3e412",
   "metadata": {},
   "source": [
    "### 2.3.1. ２時期の差分を計算する\n",
    "\n",
    "以下のセルで10月12日～11月3日の変化を検出するための差分画像を計算します。"
   ]
  },
  {
   "cell_type": "code",
   "execution_count": 13,
   "id": "f063fe28-a5b4-43eb-b736-eaf35a66d43a",
   "metadata": {},
   "outputs": [],
   "source": [
    "import rasterio\n",
    "import numpy as np\n",
    "import matplotlib.pyplot as plt\n",
    "\n",
    "diff_img_1012_1103 = post_typhoon - pre_typhoon"
   ]
  },
  {
   "cell_type": "markdown",
   "id": "8ad20231-b0fb-42ab-a34b-6c0de954de1e",
   "metadata": {},
   "source": [
    "差分画像を表示してみます。台風で冠水した領域が浮き上がります。"
   ]
  },
  {
   "cell_type": "code",
   "execution_count": null,
   "id": "2e109e21-e962-42f2-8438-a532a00c2901",
   "metadata": {},
   "outputs": [],
   "source": [
    "import matplotlib.pyplot as plt\n",
    "\n",
    "# 結果を凡例で視覚化する\n",
    "fig, axes = plt.subplots(1, 3, figsize=(24, 6))\n",
    "\n",
    "# 台風前の画像をプロットする。\n",
    "img0 = axes[0].imshow(pre_typhoon, cmap='gray')\n",
    "axes[0].set_title(\"Pre-Typhoon Image\")\n",
    "axes[0].axis(\"off\")\n",
    "cbar0 = fig.colorbar(img0, ax=axes[0], orientation='vertical', fraction=0.046, pad=0.04)\n",
    "cbar0.set_label(\"Intensity\")\n",
    "\n",
    "# 台風後の画像をプロットする。\n",
    "img1 = axes[1].imshow(post_typhoon, cmap='gray')\n",
    "axes[1].set_title(\"Post-Typhoon Image\")\n",
    "axes[1].axis(\"off\")\n",
    "cbar1 = fig.colorbar(img1, ax=axes[1], orientation='vertical', fraction=0.046, pad=0.04)\n",
    "cbar1.set_label(\"Intensity\")\n",
    "\n",
    "# 差分画像をプロット\n",
    "img2 = axes[2].imshow(diff_img_1012_1103, cmap='gray')\n",
    "axes[2].set_title(\"Difference (Post - Pre)\")\n",
    "axes[2].axis(\"off\")\n",
    "cbar2 = fig.colorbar(img2, ax=axes[2], orientation='vertical', fraction=0.046, pad=0.04)\n",
    "cbar2.set_label(\"Difference Value\")\n",
    "\n",
    "# レイアウトを調整し、プロットを表示する\n",
    "plt.tight_layout()\n",
    "plt.show()"
   ]
  },
  {
   "cell_type": "markdown",
   "id": "0edf37ff-329c-4a0a-968e-ae745c3f26c3",
   "metadata": {},
   "source": [
    "差分画像のヒストグラムでは、画素値の分布が正規分布であることがわかります。したがって、両側を有意な変化であるとみなすことができそうです。"
   ]
  },
  {
   "cell_type": "code",
   "execution_count": null,
   "id": "db02d55e-daff-4041-918c-e0c662abf890",
   "metadata": {},
   "outputs": [],
   "source": [
    "# 差のヒストグラムをプロットする\n",
    "plt.figure(figsize=(10, 6))\n",
    "plt.hist(diff_img_1012_1103.ravel(), bins=100, color='blue', alpha=0.7)\n",
    "plt.title(\"Histogram of Difference between Pre and Post typhoon image\")\n",
    "plt.xlabel(\"Difference Value\")\n",
    "plt.ylabel(\"Frequency\")\n",
    "plt.grid(True)\n",
    "plt.show()"
   ]
  },
  {
   "cell_type": "markdown",
   "id": "e0845ac2",
   "metadata": {},
   "source": [
    "##### 差分画像をGeoTIFFとして保存"
   ]
  },
  {
   "cell_type": "code",
   "execution_count": null,
   "id": "9740cc69",
   "metadata": {},
   "outputs": [],
   "source": [
    "# 差分画像をGeoTIFFとして保存\n",
    "with rasterio.open(\".../IMG-HH-ALOS2290760720-191011-UBSR2.1GUA.tif\") as src:  # 入力ファイルへのパスで置き換える\n",
    "    # メタデータを読む\n",
    "    meta = src.meta.copy()\n",
    "\n",
    "# 差分画像のメタデータを更新\n",
    "meta.update(dtype=rasterio.float32)\n",
    "\n",
    "# 差分画像を保存\n",
    "output_file = \"difference_image.tif\"\n",
    "with rasterio.open(output_file, \"w\", **meta) as dst:\n",
    "    dst.write(diff_img_1012_1103.astype(rasterio.float32), 1)\n",
    "\n",
    "print(f\"Difference image saved as {output_file}\")"
   ]
  },
  {
   "cell_type": "markdown",
   "id": "b3830184-525a-46eb-bec9-161f67ac7b57",
   "metadata": {},
   "source": [
    "### 2.3.2. 差分画像から有意な変化を検出する\n",
    "\n",
    "本節では画素値分布の両側2.5%（$\\mu \\pm 2\\sigma$）を有意な変化とみなして、水域変化の領域を検出する手順を示します。"
   ]
  },
  {
   "cell_type": "markdown",
   "id": "51e74783-22bd-4b27-a722-597ec9047faa",
   "metadata": {},
   "source": [
    "##### 平均と標準偏差による閾値の計算\n",
    "\n",
    "差分画像の画素値平均 (`mean_diff`) と標準偏差 (`std_diff`) を計算する。\n",
    "\n",
    "以下のセルでは：\n",
    "- μ±2σで下限値と上限値を設定する。\n",
    "- `[lower_bound, upper_bound]`の範囲内のピクセルは 「変化なし 」とみなされ、この範囲外[`< lower_bound`または `> upper_bound`]のピクセルは 「変化あり 」とみなされる。\n",
    "- この方法は、正規分布の仮定に従い、±2σの範囲内のほとんどのピクセルは変化なしを表すと仮定する。\n",
    "\n",
    "注：`diff_img_1012_1103`（前節の出力）は、台風前後の画像のピクセルごとの差を表す。"
   ]
  },
  {
   "cell_type": "code",
   "execution_count": 19,
   "id": "cdce0928-8ef3-4c0f-b307-fae70589721e",
   "metadata": {},
   "outputs": [],
   "source": [
    "# 平均と標準偏差を計算する\n",
    "mean_diff = np.mean(diff_img_1012_1103)\n",
    "std_diff = np.std(diff_img_1012_1103)\n",
    "\n",
    "# μ±2σで閾値を定義する\n",
    "lower_bound = mean_diff - 2 * std_diff\n",
    "upper_bound = mean_diff + 2 * std_diff"
   ]
  },
  {
   "cell_type": "markdown",
   "id": "7171ad3e-1f0b-41b0-9f2e-1bd13a1a8c2a",
   "metadata": {},
   "source": [
    "##### 閾値を適用して、変化領域とそれ以外に分類する。\n",
    "\n",
    "各ピクセルに 「変化あり 」か 「変化なし 」かのラベルを付けたバイナリマップ（`changed_area1`）を作成する。"
   ]
  },
  {
   "cell_type": "code",
   "execution_count": 21,
   "id": "247fbf59-2679-48b7-89a1-adc2a06b128c",
   "metadata": {},
   "outputs": [],
   "source": [
    "# μ±2σの閾値を適用する\n",
    "changed_area = ((diff_img_1012_1103 < lower_bound) | (diff_img_1012_1103 > upper_bound)).astype(np.uint8)  # 1 for changed, 0 for no-change"
   ]
  },
  {
   "cell_type": "markdown",
   "id": "dc665e34-d4db-4254-a854-79ad21929b40",
   "metadata": {},
   "source": [
    "##### 分類結果の可視化"
   ]
  },
  {
   "cell_type": "code",
   "execution_count": null,
   "id": "a20bb956-3890-4f04-8b4f-fd5c90c7db33",
   "metadata": {},
   "outputs": [],
   "source": [
    "import matplotlib.pyplot as plt\n",
    "import numpy as np\n",
    "import matplotlib.patches as mpatches\n",
    "from matplotlib.colors import ListedColormap\n",
    "\n",
    "\n",
    "# `changed_area`はバイナリ変化マップデータで、「変化あり 」が1、「変化なし 」が0となる。\n",
    "\n",
    "fig, ax = plt.subplots(figsize=(12, 12))\n",
    "\n",
    "# グレーのカラーマップを使って結果をプロットする。\n",
    "ax.imshow(changed_area, cmap=ListedColormap(['black', 'white']))\n",
    "ax.set_title(\"Change Map between Pre-typhoon and Post-typhoon (μ ± 2σ Threshold)\")\n",
    "ax.axis(\"off\")\n",
    "\n",
    "# 変更なし」と「変更あり」の色を持つカスタム凡例を作成する。\n",
    "no_change_patch = mpatches.Patch(color=\"black\", label=\"No Change\")  # 黒は変化なし\n",
    "changed_patch = mpatches.Patch(color=\"white\", label=\"Changed\")      # 変更された白\n",
    "plt.legend(handles=[no_change_patch, changed_patch], loc=\"lower right\", borderaxespad=1)\n",
    "\n",
    "# プロットを表示する\n",
    "plt.show()"
   ]
  },
  {
   "cell_type": "markdown",
   "id": "52707fb4-75cf-4257-9fc5-8a2c9ab457c0",
   "metadata": {},
   "source": [
    "ダムの湛水による水域変化が「変化あり」として検出されました。\n",
    "\n",
    "ダムだけでなく周辺にも「変化あり」とされる画素が点在していますが、これはノイズです。合成開口レーダーはレーダーの入射角（地形の斜面角度と衛星の高度角の差）が観測値に影響するため、その影響を補正する前処理が必要な場合があります。[ALOS-2/PALSAR-2データプロダクトL2.2では斜面勾配補正処理がなされますが、ScanSARに対してのみ処理、無償公開されており](https://www.eorc.jaxa.jp/ALOS/en/dataset/palsar2_l22_e.htm)、標準プロダクトは未提供とのことです。\n",
    "\n",
    "あらかじめ関心領域を定義しておくことで上記のようなノイズを除外することも重要です。例えば、完全に湛水した状態の水面の形状をあらかじめGISのポリゴンレイヤとして保管しておき、そのポリゴンの内側だけ変化検出の解析を処理するといった工夫が考えられます。あるいは、隣接する画素をクラスターとして、一定サイズ以下のクラスターをノイズとみなす、といった手順も有用と思われます。"
   ]
  },
  {
   "cell_type": "markdown",
   "id": "7b679c80-8ff3-4028-9ae0-2bba1d70b893",
   "metadata": {},
   "source": [
    "### 2.3.3. （参考）Sentinel-2光学衛星画像と比較する。\n",
    "\n",
    "#### サンプル地点1\n",
    "\n",
    "**台風前の画像（観測日：2019年10月11日）と台風後の画像（観測日：2019年11月03日）の違い**\n",
    "\n",
    "![Changed-area1](new-img_Diff_Pre-Post.PNG)\n",
    "\n",
    "| ALOS-2 image (filtered image) | Sentinel-2 image |\n",
    "|-------------------------------|------------------|\n",
    "| 台風前（観測日：2019年10月11日） | 台風前（観測日：2019年10月10日～11日） |\n",
    "| ![ALOS-2_pre1](validate-pre1.png) | ![Sentinel-2_pre1](sentinel2-pre1.png) |\n",
    "| 台風後（観測日：2019年11月3日） | 台風後（観測日：2019年10月28日～11月03日） |\n",
    "| ![ALOS-2_post1](validate-post1.png) | ![Sentinel-2_post1](sentinel2-post1.png) |\n",
    "\n",
    "#### サンプル地点2\n",
    "\n",
    "**台風前の画像（観測日：2019年10月11日）と台風後の画像（観測日：2019年11月03日）の違い**。\n",
    "\n",
    "![Changed-area2](new-img_Diff_Pre-Post2.PNG)\n",
    "\n",
    "| ALOS-2 image (filtered image) | Sentinel-2 image |\n",
    "|-------------------------------|------------------|\n",
    "| 台風前（観測日：2019年10月11日） | 台風前（観測日：2019年10月10日～11日） |\n",
    "| ![ALOS-2_pre2](validate-pre2.png) | ![Sentinel-2_pre2](sentinel2-pre2.png) |\n",
    "| 台風後（観測日：2019年11月3日） | 台風後（観測日：2019年10月28日～11月03日） |\n",
    "| ![ALOS-2_post2](validate-post2.png) | ![Sentinel-2_post2](sentinel2-post2.png) |"
   ]
  },
  {
   "cell_type": "markdown",
   "id": "dc2169b9-1f7b-4ab9-a5be-1e465d716b09",
   "metadata": {},
   "source": [
    "## 2.4 本演習手順の利点と利用方法\n",
    "\n",
    "### 遠隔地の監視や調査\n",
    "\n",
    "- 八ッ場ダムのような遠隔地におけるインフラ監視における利用のヒントになります。IoTと衛星通信が充実した近年には、センサの設置だけでも十分かもしれません。しかし、隈無くセンサを設置するには多大な費用がかかる場合には、衛星データとの組み合わせが効果的になります。\n",
    "- はじめてインフラを開発するような土地には、そもそもセンサの設置計画に必要な情報さえありません。そのような場合には衛星データで**大雑把でも**動態を分析できることは計悪に必要な調査費用を低減することに貢献します。"
   ]
  }
 ],
 "metadata": {
  "kernelspec": {
   "display_name": "Python 3 (ipykernel)",
   "language": "python",
   "name": "python3"
  },
  "language_info": {
   "codemirror_mode": {
    "name": "ipython",
    "version": 3
   },
   "file_extension": ".py",
   "mimetype": "text/x-python",
   "name": "python",
   "nbconvert_exporter": "python",
   "pygments_lexer": "ipython3",
   "version": "3.12.3"
  }
 },
 "nbformat": 4,
 "nbformat_minor": 5
}
