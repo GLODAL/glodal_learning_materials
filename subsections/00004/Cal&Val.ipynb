{
 "cells": [
  {
   "cell_type": "markdown",
   "id": "6fe60ab5-1395-4c5e-b463-8dab47a317c7",
   "metadata": {},
   "source": [
    "### (Advanced) [What are the most important techniques for calibrating remote sensing data?](https://www.linkedin.com/advice/1/what-most-important-techniques-calibrating-wkobc#:~:text=Radiometric%20calibration%20is%20the%20process,scattering%2C%20absorption%2C%20and%20haze.)a)\n",
    "\n",
    "Calibrating remote sensing data is a crucial step for ensuring the accuracy and reliability of the information derived from satellite or aerial images. Remote sensing data can be affected by various sources of error, such as atmospheric conditions, sensor characteristics, geometric distortions, and radiometric variations.\n",
    "\n",
    "The information below show some of the most important techniques for calibrating remote sensing data and how they can improve your GIS analysis.\n",
    "\n",
    " - Radiometric calibration\n",
    "   \r",
    "Radiometric calibration adjusts the pixel values of remote sensing data to accurately reflect the true radiance or reflectance of the Earth's surface. This process is crucial for comparing data from different sensors, dates, or locations, and for mitigating the effects of atmospheric scattering, absorption, and haze.. Radiometric calibration can be performed using different methods, such as dark object subtraction, histogram matching, empirical line fitting, or radiative transfer models\n",
    "\n",
    " - Geometric calibration\n",
    "\r",
    "Geometric calibration is the process of correcting spatial distortions in remote sensing data caused by factors such as sensor orientation, platform motion, terrain relief, and map projection. This calibration is essential for accurately aligning data with other spatial layers, measuring distances and areas, and identifying features and patterns. THe example methods for geometric calibration is orthorectification, image registration, resampling, and geometric transformation.\n",
    "\n",
    " - Spectral calibration\n",
    "\r\n",
    "Spectral calibration is the process of adjusting the spectral characteristics of remote sensing data to match the spectral response of the target objects or materials. This is important for identifying and classifying land cover types, vegetation types, mineral types, or water quality parameters. Spectral calibration can be performed using different methods, such as spectral matching, spectral unmixing, spectral normalization, or spectral enhancement\n",
    "\n",
    " - Temporal calibration\n",
    "\n",
    "Temporal calibration is the process of adjusting the temporal resolution of remote sensing data to match the temporal dynamics of the phenomena or processes of interest. This is important for monitoring changes, trends, and anomalies over time, and for analyzing seasonal, annual, or long-term variations. Temporal calibration can be performed using different methods, such as temporal interpolation, temporal aggregation, temporal smoothing, or temporal filtering.\n",
    "\n",
    " - Calibration tools\n",
    "\r\n",
    "Calibration tools are the software applications or modules that facilitate the implementation of the calibration techniques described above. They can be integrated into GIS software or standalone programs that can handle various types of remote sensing data and formats. Some examples of calibration tools are ENVI, ERDAS IMAGINE, ArcGIS Image Analyst, QGIS, or R...."
   ]
  },
  {
   "cell_type": "code",
   "execution_count": null,
   "id": "86ad8f11-4da6-4635-84da-19c845ae06c3",
   "metadata": {},
   "outputs": [],
   "source": []
  }
 ],
 "metadata": {
  "kernelspec": {
   "display_name": "Python 3 (ipykernel)",
   "language": "python",
   "name": "python3"
  },
  "language_info": {
   "codemirror_mode": {
    "name": "ipython",
    "version": 3
   },
   "file_extension": ".py",
   "mimetype": "text/x-python",
   "name": "python",
   "nbconvert_exporter": "python",
   "pygments_lexer": "ipython3",
   "version": "3.11.6"
  }
 },
 "nbformat": 4,
 "nbformat_minor": 5
}
