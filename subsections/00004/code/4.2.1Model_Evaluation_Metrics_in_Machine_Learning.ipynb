{
 "cells": [
  {
   "cell_type": "markdown",
   "id": "2860da91-a0be-465c-b0bb-d2f7b1e52f77",
   "metadata": {},
   "source": [
    "# Model Evaluation Metrics\n",
    "\n",
    "Define the evaluation metrics for evaluating the performance of a machine learning model, which is an integral component of any data science project. It aims to estimate the generalization accuracy of a model on the future (unseen/out-of-sample) data.\n",
    "\n",
    "Reference: https://www.kdnuggets.com/2020/05/model-evaluation-metrics-machine-learning.html"
   ]
  },
  {
   "cell_type": "markdown",
   "id": "c364e86e-c8d5-4e74-b6b4-5dbd29049468",
   "metadata": {},
   "source": [
    "## Confusion Matrix"
   ]
  },
  {
   "cell_type": "code",
   "execution_count": 1,
   "id": "a88edc8f-fead-4042-ac12-8ec5f8c93f6e",
   "metadata": {},
   "outputs": [],
   "source": [
    "import warnings\n",
    "import pandas as pd\n",
    "from sklearn import model_selection\n",
    "from sklearn.linear_model import LogisticRegression\n",
    "from sklearn.metrics import confusion_matrix\n",
    "import matplotlib.pyplot as plt\n",
    "%matplotlib inline  "
   ]
  },
  {
   "cell_type": "code",
   "execution_count": 2,
   "id": "a36a9098-b5de-407c-957f-91b7d49a6d9d",
   "metadata": {},
   "outputs": [],
   "source": [
    "#ignore warnings\n",
    "warnings.filterwarnings('ignore')\n",
    "# Load digits dataset\n",
    "url = \"http://archive.ics.uci.edu/ml/machine-learning-databases/iris/iris.data\"\n",
    "df = pd.read_csv(url)\n",
    "# df = df.values\n",
    "X = df.iloc[:,0:4]\n",
    "y = df.iloc[:,4]"
   ]
  },
  {
   "cell_type": "code",
   "execution_count": 3,
   "id": "a29ae7f1-6722-46d1-9125-9c7cdac96ed5",
   "metadata": {},
   "outputs": [],
   "source": [
    "#test size\n",
    "test_size = 0.33\n",
    "#generate the same set of random numbers\n",
    "seed = 7\n",
    "#Split data into train and test set. \n",
    "X_train, X_test, y_train, y_test = model_selection.train_test_split(X, y, test_size=test_size, random_state=seed)\n",
    "#Train Model\n",
    "model = LogisticRegression()\n",
    "model.fit(X_train, y_train)\n",
    "pred = model.predict(X_test)"
   ]
  },
  {
   "cell_type": "code",
   "execution_count": 5,
   "id": "c7477e7d-5d60-43bb-b78e-54f28763a9a7",
   "metadata": {},
   "outputs": [
    {
     "name": "stdout",
     "output_type": "stream",
     "text": [
      "[[13  0  0]\n",
      " [ 0 17  2]\n",
      " [ 0  0 18]]\n"
     ]
    },
    {
     "data": {
      "image/png": "[encoded data removed]",
      "text/plain": [
       "<Figure size 640x480 with 2 Axes>"
      ]
     },
     "metadata": {},
     "output_type": "display_data"
    }
   ],
   "source": [
    "# Construct the Confusion Matrix\n",
    "labels = ['Iris-setosa', 'Iris-versicolor', 'Iris-virginica']\n",
    "cm = confusion_matrix(y_test, pred, labels=labels)\n",
    "print(cm)\n",
    "\n",
    "# Plot the Confusion Matrix\n",
    "fig = plt.figure()\n",
    "ax = fig.add_subplot(111)\n",
    "cax = ax.matshow(cm, cmap='coolwarm')\n",
    "plt.title('Confusion Matrix')\n",
    "fig.colorbar(cax)\n",
    "ax.set_xticklabels([''] + labels)\n",
    "ax.set_yticklabels([''] + labels)\n",
    "plt.xlabel('Predicted')\n",
    "plt.ylabel('True')\n",
    "plt.show()\n"
   ]
  },
  {
   "cell_type": "markdown",
   "id": "db79317c-6739-4dec-960d-5dc6967689a7",
   "metadata": {},
   "source": [
    "## Accuracy"
   ]
  },
  {
   "cell_type": "code",
   "execution_count": 1,
   "id": "443c33e0-5aba-419d-a907-36064abb0e9b",
   "metadata": {},
   "outputs": [],
   "source": [
    "#import modules\n",
    "import warnings\n",
    "import pandas as pd\n",
    "import numpy as np\n",
    "from sklearn import model_selection\n",
    "from sklearn.linear_model import LogisticRegression\n",
    "from sklearn import datasets\n",
    "from sklearn.metrics import accuracy_score"
   ]
  },
  {
   "cell_type": "code",
   "execution_count": 2,
   "id": "2aba498b-9ec1-47cc-b97c-010f6edfebf9",
   "metadata": {},
   "outputs": [],
   "source": [
    "#ignore warnings\n",
    "warnings.filter warnings('ignore')\n",
    "# Load digits dataset\n",
    "iris = datasets.load_iris()"
   ]
  },
  {
   "cell_type": "code",
   "execution_count": 7,
   "id": "40708342-fa63-4d7e-ab69-bc645877d816",
   "metadata": {},
   "outputs": [
    {
     "name": "stdout",
     "output_type": "stream",
     "text": [
      "Accuracy - val set: 96.67% (0.05)\n",
      "Accuracy - test set: 92.00%\n"
     ]
    }
   ],
   "source": [
    "# Load the iris dataset\n",
    "iris = datasets.load_iris()\n",
    "\n",
    "# Create feature matrix\n",
    "X = iris.data\n",
    "# Create target vector\n",
    "y = iris.target\n",
    "\n",
    "# Test size\n",
    "test_size = 0.33\n",
    "\n",
    "# Generate the same set of random numbers\n",
    "seed = 7\n",
    "\n",
    "# Cross-validation settings\n",
    "kfold = model_selection.KFold(n_splits=10, shuffle=True, random_state=seed)\n",
    "\n",
    "# Model instance\n",
    "model = LogisticRegression()\n",
    "\n",
    "# Evaluate model performance\n",
    "scoring = 'accuracy'\n",
    "results = model_selection.cross_val_score(model, X, y, cv=kfold, scoring=scoring)\n",
    "\n",
    "print('Accuracy - val set: %.2f%% (%.2f)' % (results.mean() * 100, results.std()))\n",
    "\n",
    "#split data\n",
    "X_train, X_test, y_train, y_test = model_selection.train_test_split(X, y, test_size=test_size, random_state=seed)\n",
    "#fit model\n",
    "model.fit(X_train, y_train)\n",
    "#accuracy on test set\n",
    "result = model.score(X_test, y_test)\n",
    "print(\"Accuracy - test set: %.2f%%\" % (result*100.0))"
   ]
  },
  {
   "cell_type": "markdown",
   "id": "a47e0375-db27-474e-ba27-a60b8337e375",
   "metadata": {},
   "source": [
    "## Precision, Recall or Sensitivity, F1 Score"
   ]
  },
  {
   "cell_type": "code",
   "execution_count": 5,
   "id": "9b5a9e3c-3ec0-4aaa-bccf-ee56dfbcadc4",
   "metadata": {},
   "outputs": [
    {
     "name": "stdout",
     "output_type": "stream",
     "text": [
      "Precision: 0.701493\n",
      "Recall: 0.552941\n",
      "F1 score: 0.618421\n"
     ]
    }
   ],
   "source": [
    "import warnings\n",
    "import pandas\n",
    "from sklearn import model_selection\n",
    "from sklearn.linear_model import LogisticRegression\n",
    "from sklearn.metrics import precision_score, recall_score, f1_score\n",
    "\n",
    "warnings.filterwarnings('ignore')\n",
    "\n",
    "url = \"https://raw.githubusercontent.com/jbrownlee/Datasets/master/pima-indians-diabetes.data.csv\"\n",
    "dataframe = pandas.read_csv(url)\n",
    "dat = dataframe.values\n",
    "X = dat[:, :-1]\n",
    "y = dat[:, -1]\n",
    "test_size = 0.33\n",
    "seed = 7\n",
    "\n",
    "model = LogisticRegression()\n",
    "\n",
    "# Split data\n",
    "X_train, X_test, y_train, y_test = model_selection.train_test_split(X, y, test_size=test_size, random_state=seed)\n",
    "\n",
    "# Fit model\n",
    "model.fit(X_train, y_train)\n",
    "\n",
    "# Predict on test set\n",
    "pred = model.predict(X_test)\n",
    "\n",
    "# Calculate precision\n",
    "precision = precision_score(y_test, pred)\n",
    "print('Precision: %f' % precision)\n",
    "\n",
    "# Calculate recall\n",
    "recall = recall_score(y_test, pred)\n",
    "print('Recall: %f' % recall)\n",
    "\n",
    "# Calculate F1 score\n",
    "f1 = f1_score(y_test, pred)\n",
    "print('F1 score: %f' % f1)\n"
   ]
  },
  {
   "cell_type": "markdown",
   "id": "c8ec3a14-e529-46cb-8cba-a662ce360d8d",
   "metadata": {},
   "source": [
    "## Receiver Operating Characteristics (ROC) Curve"
   ]
  },
  {
   "cell_type": "code",
   "execution_count": 8,
   "id": "1c180d93-9e9b-4539-a518-5fd5c858b051",
   "metadata": {},
   "outputs": [
    {
     "name": "stdout",
     "output_type": "stream",
     "text": [
      "AUC - Test Set: 82.85%\n"
     ]
    },
    {
     "data": {
      "image/png": "[encoded data removed]",
      "text/plain": [
       "<Figure size 640x480 with 1 Axes>"
      ]
     },
     "metadata": {},
     "output_type": "display_data"
    }
   ],
   "source": [
    "#Classification Area under curve\n",
    "import warnings\n",
    "import pandas\n",
    "import matplotlib.pyplot as plt  # Importing matplotlib.pyplot\n",
    "from sklearn import model_selection\n",
    "from sklearn.linear_model import LogisticRegression\n",
    "from sklearn.metrics import roc_auc_score, roc_curve\n",
    "\n",
    "warnings.filterwarnings('ignore')\n",
    "\n",
    "url = \"https://raw.githubusercontent.com/jbrownlee/Datasets/master/pima-indians-diabetes.data.csv\"\n",
    "dataframe = pandas.read_csv(url)\n",
    "dat = dataframe.values\n",
    "X = dat[:, :-1]\n",
    "y = dat[:, -1]\n",
    "test_size = 0.33  # Adding test_size definition\n",
    "seed = 7\n",
    "\n",
    "# Split data\n",
    "X_train, X_test, y_train, y_test = model_selection.train_test_split(X, y, test_size=test_size, random_state=seed)\n",
    "\n",
    "# Fit model\n",
    "model.fit(X_train, y_train)\n",
    "\n",
    "# Predict probabilities\n",
    "probs = model.predict_proba(X_test)\n",
    "# Keep probabilities for the positive outcome only\n",
    "probs = probs[:, 1]\n",
    "\n",
    "# Calculate AUC\n",
    "auc = roc_auc_score(y_test, probs)\n",
    "print('AUC - Test Set: %.2f%%' % (auc * 100))\n",
    "\n",
    "# Calculate ROC curve\n",
    "fpr, tpr, thresholds = roc_curve(y_test, probs)\n",
    "\n",
    "# Plot no skill\n",
    "plt.plot([0, 1], [0, 1], linestyle='--')\n",
    "\n",
    "# Plot the ROC curve for the model\n",
    "plt.plot(fpr, tpr, marker='.')\n",
    "plt.xlabel('False Positive Rate')\n",
    "plt.ylabel('Sensitivity/Recall')\n",
    "\n",
    "# Show the plot\n",
    "plt.show()\n"
   ]
  },
  {
   "cell_type": "markdown",
   "id": "46e409dd-f5e0-48a1-843e-abcb87a30726",
   "metadata": {},
   "source": [
    "## Log Loss"
   ]
  },
  {
   "cell_type": "code",
   "execution_count": 9,
   "id": "cd9f2594-0fa5-48a7-8839-0111a8dbba42",
   "metadata": {},
   "outputs": [
    {
     "name": "stdout",
     "output_type": "stream",
     "text": [
      "Logloss: 8.23\n"
     ]
    }
   ],
   "source": [
    "#Classification LogLoss\n",
    "import warnings\n",
    "import pandas\n",
    "from sklearn import model_selection\n",
    "from sklearn.linear_model import LogisticRegression\n",
    "from sklearn.metrics import log_loss\n",
    "\n",
    "warnings.filterwarnings('ignore')\n",
    "url = \"https://raw.githubusercontent.com/jbrownlee/Datasets/master/pima-indians-diabetes.data.csv\"\n",
    "dataframe = pandas.read_csv(url)\n",
    "dat = dataframe.values\n",
    "X = dat[:,:-1]\n",
    "y = dat[:,-1]\n",
    "seed = 7\n",
    "#split data\n",
    "X_train, X_test, y_train, y_test = model_selection.train_test_split(X, y, test_size=test_size, random_state=seed)\n",
    "model.fit(X_train, y_train)\n",
    "#predict and compute logloss\n",
    "pred = model.predict(X_test)\n",
    "accuracy = log_loss(y_test, pred)\n",
    "print(\"Logloss: %.2f\" % (accuracy))"
   ]
  },
  {
   "cell_type": "code",
   "execution_count": null,
   "id": "6bd96774-7f4d-4de4-a532-9b3668ad0415",
   "metadata": {},
   "outputs": [],
   "source": []
  }
 ],
 "metadata": {
  "kernelspec": {
   "display_name": "Python 3 (ipykernel)",
   "language": "python",
   "name": "python3"
  },
  "language_info": {
   "codemirror_mode": {
    "name": "ipython",
    "version": 3
   },
   "file_extension": ".py",
   "mimetype": "text/x-python",
   "name": "python",
   "nbconvert_exporter": "python",
   "pygments_lexer": "ipython3",
   "version": "3.11.6"
  }
 },
 "nbformat": 4,
 "nbformat_minor": 5
}
