{
 "cells": [
  {
   "cell_type": "code",
   "execution_count": 5,
   "id": "5e9f8a84-6f1b-4eb7-ad42-1f6aa47ec773",
   "metadata": {},
   "outputs": [
    {
     "name": "stdout",
     "output_type": "stream",
     "text": [
      "Files extracted to /home/jovyan/shared/Learning_materials/subsections/3.*/code/train/\n"
     ]
    }
   ],
   "source": [
    "import zipfile\n",
    "import os\n",
    "\n",
    "# Define the path to the ZIP file and the directory to extract to\n",
    "zip_file_path = '/home/jovyan/shared/Learning_materials/subsections/3.*/code/train2.zip'\n",
    "extract_to_path = '/home/jovyan/shared/Learning_materials/subsections/3.*/code/train/'\n",
    "\n",
    "# Create the directory if it does not exist\n",
    "os.makedirs(extract_to_path, exist_ok=True)\n",
    "\n",
    "# Open the ZIP file\n",
    "with zipfile.ZipFile(zip_file_path, 'r') as zip_ref:\n",
    "    # Extract all contents\n",
    "    zip_ref.extractall(extract_to_path)\n",
    "\n",
    "print(f\"Files extracted to {extract_to_path}\")\n"
   ]
  },
  {
   "cell_type": "code",
   "execution_count": null,
   "id": "63c29474-2cec-474e-8f55-b0f5e1958ea4",
   "metadata": {},
   "outputs": [],
   "source": []
  }
 ],
 "metadata": {
  "kernelspec": {
   "display_name": "py310",
   "language": "python",
   "name": "py310"
  },
  "language_info": {
   "codemirror_mode": {
    "name": "ipython",
    "version": 3
   },
   "file_extension": ".py",
   "mimetype": "text/x-python",
   "name": "python",
   "nbconvert_exporter": "python",
   "pygments_lexer": "ipython3",
   "version": "3.10.0"
  }
 },
 "nbformat": 4,
 "nbformat_minor": 5
}
