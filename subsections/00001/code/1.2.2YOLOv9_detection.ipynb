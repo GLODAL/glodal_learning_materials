{
 "cells": [
  {
   "cell_type": "markdown",
   "id": "190aa0cb-1b6a-4450-a91e-118ff1a67c3d",
   "metadata": {},
   "source": [
    "# YOLOV9"
   ]
  },
  {
   "cell_type": "markdown",
   "id": "e604d0ea-1683-4b16-84b1-6b03986b389b",
   "metadata": {},
   "source": [
    "This code snippet performs the initial setup to work with the YOLOv9 model in a development environment. First, it clones the YOLOv9 fork from GitHub to the local environment using the git clone command. After cloning, the %cd command is used to change the current working directory to the YOLOv9 directory. Finally, the necessary dependencies listed in the project’s requirements.txt file are installed using the pip install command."
   ]
  },
  {
   "cell_type": "code",
   "execution_count": 1,
   "id": "2089b2b9-0a62-4d60-9a1e-0b5259b2b313",
   "metadata": {},
   "outputs": [
    {
     "name": "stdout",
     "output_type": "stream",
     "text": [
      "Cloning into 'yolov9'...\n",
      "remote: Enumerating objects: 372, done.\u001b[K\n",
      "remote: Total 372 (delta 0), reused 0 (delta 0), pack-reused 372\u001b[K\n",
      "Receiving objects: 100% (372/372), 2.54 MiB | 28.86 MiB/s, done.\n",
      "Resolving deltas: 100% (185/185), done.\n",
      "Updating files: 100% (111/111), done.\n",
      "/home/jovyan/shared/Learning_materials/subsections/1.*/code/yolov9\n"
     ]
    }
   ],
   "source": [
    "# Clone the YOLOv9 repository\n",
    "!git clone https://github.com/carlosfab/yolov9.git\n",
    "\n",
    "# Change the current working directory to the cloned YOLOv9 repository\n",
    "%cd yolov9\n",
    "\n",
    "# Install the necessary YOLOv9 dependencies from the requirements.txt file\n",
    "!pip install -r requirements.txt -q"
   ]
  },
  {
   "cell_type": "code",
   "execution_count": 2,
   "id": "1bde11d8-5dfa-40e3-8d4e-2c584c04650a",
   "metadata": {},
   "outputs": [],
   "source": [
    "# Import necessary libraries\n",
    "import sys\n",
    "import requests\n",
    "from tqdm.notebook import tqdm\n",
    "from pathlib import Path\n",
    "from PIL import Image\n",
    "from io import BytesIO\n",
    "import matplotlib.pyplot as plt\n",
    "from matplotlib.pylab import rcParams"
   ]
  },
  {
   "cell_type": "markdown",
   "id": "5d481a12-6898-4336-ac1a-120065d54878",
   "metadata": {},
   "source": [
    "## Directory Configuration for Code and Data\r\n",
    "CODE_FOLDER = Path(“..”).resolve() # Code directory WEIGHTS_FOLDER = CODE_FOLDER / “weights” # Model weights directory DATA_FOLDER = CODE_FOLDER / “data” # Data directory # Creates directories for weights and data, if they do not exist WEIGHTS_FOLDER.mkdir(exist_ok=True, parents=True) DATA_FOLDER.mkdir(exist_ok=True, parents=True) # Adds the code directory to the Python path for module import sys.path.append(str(CODE_FOLDER)) rcParams[‘figure.figsize’] = 15, 15 %matplotlib inline This snippet initializes the environment for a computer vision project by importing necessary libraries and configuring directories for code, data, and model weights, creating them if they don’t exist."
   ]
  },
  {
   "cell_type": "markdown",
   "id": "df768a4d-7b91-41a0-9e5f-f0969dffcb35",
   "metadata": {},
   "source": [
    "This code snippet is responsible for downloading weight files for models from a specified list of URLs in the weight_files variable, saving them in the designated weights directory. It iterates through each URL in the list, extracts the file name, performs the download in 1 Kilobyte blocks to efficiently manage memory use, and monitors the download progress with a visual progress bar."
   ]
  },
  {
   "cell_type": "code",
   "execution_count": 3,
   "id": "dd4e79ec-dd78-494a-ac89-4b8e7bb634ee",
   "metadata": {},
   "outputs": [
    {
     "name": "stderr",
     "output_type": "stream",
     "text": [
      "Downloading file 1/4: yolov9-c.pt: 100%|██████████| 103M/103M [00:03<00:00, 25.9MiB/s] \n",
      "Downloading file 2/4: yolov9-e.pt: 100%|██████████| 140M/140M [00:05<00:00, 25.2MiB/s] \n",
      "Downloading file 3/4: gelan-c.pt: 100%|██████████| 51.5M/51.5M [00:02<00:00, 24.9MiB/s]\n",
      "Downloading file 4/4: gelan-e.pt: 100%|██████████| 117M/117M [00:04<00:00, 25.2MiB/s] \n"
     ]
    }
   ],
   "source": [
    "import os\n",
    "from pathlib import Path\n",
    "import requests\n",
    "from tqdm import tqdm\n",
    "\n",
    "# Define the folder where weights will be stored\n",
    "WEIGHTS_FOLDER = Path(\"./weights\")\n",
    "WEIGHTS_FOLDER.mkdir(parents=True, exist_ok=True)\n",
    "\n",
    "# List of weight files to download (example URLs)\n",
    "weight_files = [\n",
    "    \"https://github.com/WongKinYiu/yolov9/releases/download/v0.1/yolov9-c.pt\",\n",
    "    \"https://github.com/WongKinYiu/yolov9/releases/download/v0.1/yolov9-e.pt\",\n",
    "    \"https://github.com/WongKinYiu/yolov9/releases/download/v0.1/gelan-c.pt\",\n",
    "    \"https://github.com/WongKinYiu/yolov9/releases/download/v0.1/gelan-e.pt\"\n",
    "]\n",
    "\n",
    "for i, url in enumerate(weight_files, start=1):\n",
    "    filename = url.split(\"/\")[-1]\n",
    "    response = requests.get(url, stream=True)\n",
    "    total_size_in_bytes = int(response.headers.get('content-length', 0))\n",
    "    block_size = 1024  # 1 Kilobyte\n",
    "    progress_bar = tqdm(total=total_size_in_bytes, unit='iB', unit_scale=True, desc=f\"Downloading file {i}/{len(weight_files)}: {filename}\")\n",
    "\n",
    "    with open(WEIGHTS_FOLDER / filename, 'wb') as file:\n",
    "        for data in response.iter_content(block_size):\n",
    "            progress_bar.update(len(data))\n",
    "            file.write(data)\n",
    "    progress_bar.close()\n"
   ]
  },
  {
   "cell_type": "markdown",
   "id": "24009932-0e62-4f37-bf31-eb0d58ae3843",
   "metadata": {},
   "source": [
    "This code downloads a test image from a specified URL using the requests library to make the HTTP request and retrieve the image content. After getting the response, the image content is saved in a file named test_image.jpg, located in a previously configured data directory.\r\n",
    "\r\n",
    "You can also manually upload your photos, if you wish, by dragging them into the data folder."
   ]
  },
  {
   "cell_type": "code",
   "execution_count": 5,
   "id": "79b69ae8-415b-4109-8392-fe7314ba1d59",
   "metadata": {},
   "outputs": [
    {
     "name": "stderr",
     "output_type": "stream",
     "text": [
      "Downloading test_image.jpg: 100%|██████████| 190k/190k [00:00<00:00, 752kiB/s]\n"
     ]
    }
   ],
   "source": [
    "import os\n",
    "from pathlib import Path\n",
    "import requests\n",
    "from tqdm import tqdm\n",
    "\n",
    "# Define the base folder where your data is located\n",
    "BASE_FOLDER = Path(\"/home/jovyan/shared/Learning_materials/subsections/1.*/code/yolov9\")\n",
    "\n",
    "# Define the DATA_FOLDER within the base folder\n",
    "DATA_FOLDER = BASE_FOLDER / \"DATA_FOLDER\"\n",
    "DATA_FOLDER.mkdir(parents=True, exist_ok=True)  # Create the folder if it doesn't exist\n",
    "\n",
    "# URL of the image to download (example URL)\n",
    "image_url = \"https://sigmoidal.ai/wp-content/uploads/2022/11/314928609_1293071608150779_8666358890956473002_n.jpg\"\n",
    "\n",
    "# Make the request to get the image\n",
    "response = requests.get(image_url, stream=True)\n",
    "total_size_in_bytes = int(response.headers.get('content-length', 0))\n",
    "block_size = 1024  # 1 Kilobyte\n",
    "progress_bar = tqdm(total=total_size_in_bytes, unit='iB', unit_scale=True, desc=\"Downloading test_image.jpg\")\n",
    "\n",
    "# Define the file path where the image will be saved within DATA_FOLDER\n",
    "image_path = DATA_FOLDER / \"test_image.jpg\"\n",
    "\n",
    "# Save the image in the specified directory\n",
    "with open(image_path, 'wb') as f:\n",
    "    for data in response.iter_content(block_size):\n",
    "        progress_bar.update(len(data))\n",
    "        f.write(data)\n",
    "\n",
    "progress_bar.close()\n"
   ]
  },
  {
   "cell_type": "markdown",
   "id": "1493c08d-fbed-46e2-b8e4-157c5ec57a71",
   "metadata": {},
   "source": [
    "Now, just run the detection script, detect.py, located in the code directory CODE_FOLDER, using some of the weights saved in the directory assigned to the WEIGHTS_FOLDER variable. The script is set up to process a test image (test_image.jpg) found in the data directory DATA_FOLDER, with a minimum confidence (--conf) of 0.1 for object detection."
   ]
  },
  {
   "cell_type": "code",
   "execution_count": 7,
   "id": "b1f77a5a-b2d1-4d75-a8db-db3b042e2930",
   "metadata": {},
   "outputs": [
    {
     "name": "stdout",
     "output_type": "stream",
     "text": [
      "\u001b[34m\u001b[1mdetect: \u001b[0mweights=['/home/jovyan/shared/Learning_materials/subsections/1.*/code/yolov9/weights/yolov9-e.pt'], source=/home/jovyan/shared/Learning_materials/subsections/1.*/code/yolov9/DATA_FOLDER/test_image.jpg, data=data/coco128.yaml, imgsz=[640, 640], conf_thres=0.1, iou_thres=0.45, max_det=1000, device=cpu, view_img=False, save_txt=False, save_conf=False, save_crop=False, nosave=False, classes=None, agnostic_nms=False, augment=False, visualize=False, update=False, project=runs/detect, name=exp, exist_ok=False, line_thickness=3, hide_labels=False, hide_conf=False, half=False, dnn=False, vid_stride=1\n",
      "YOLO 🚀 6b38221 Python-3.11.6 torch-2.3.1+cu121 CPU\n",
      "\n",
      "Fusing layers... \n",
      "Model summary: 839 layers, 68669632 parameters, 0 gradients, 241.4 GFLOPs\n",
      "image 1/1 /home/jovyan/shared/Learning_materials/subsections/1.*/code/yolov9/DATA_FOLDER/test_image.jpg: 640x608 6 persons, 1 sports ball, 17 bottles, 4 cups, 2 potted plants, 1 dining table, 3 books, 1138.4ms\n",
      "Speed: 0.8ms pre-process, 1138.4ms inference, 0.9ms NMS per image at shape (1, 3, 640, 640)\n",
      "Results saved to \u001b[1mruns/detect/exp2\u001b[0m\n"
     ]
    }
   ],
   "source": [
    "!python /home/jovyan/shared/Learning_materials/subsections/1.*/code/yolov9/detect.py --weights /home/jovyan/shared/Learning_materials/subsections/1.*/code/yolov9/weights/yolov9-e.pt --conf 0.1 --source /home/jovyan/shared/Learning_materials/subsections/1.*/code/yolov9/DATA_FOLDER/test_image.jpg --device cpu\n",
    "\n",
    "# !python {CODE_FOLDER}/detect.py --weights {WEIGHTS_FOLDER}/yolov9-e.pt --conf 0.1 --source {DATA_FOLDER}/test_image.jpg --device 0"
   ]
  },
  {
   "cell_type": "markdown",
   "id": "d3308e7c-3316-498b-9d43-76059f0675de",
   "metadata": {},
   "source": [
    "Ref: https://sigmoidal.ai/en/yolov9-step-by-step-tutorial-object-detection/"
   ]
  },
  {
   "cell_type": "code",
   "execution_count": null,
   "id": "1d8655ec-87d9-4290-971f-8b9452fc3a58",
   "metadata": {},
   "outputs": [],
   "source": []
  }
 ],
 "metadata": {
  "kernelspec": {
   "display_name": "Python 3 (ipykernel)",
   "language": "python",
   "name": "python3"
  },
  "language_info": {
   "codemirror_mode": {
    "name": "ipython",
    "version": 3
   },
   "file_extension": ".py",
   "mimetype": "text/x-python",
   "name": "python",
   "nbconvert_exporter": "python",
   "pygments_lexer": "ipython3",
   "version": "3.11.6"
  }
 },
 "nbformat": 4,
 "nbformat_minor": 5
}
