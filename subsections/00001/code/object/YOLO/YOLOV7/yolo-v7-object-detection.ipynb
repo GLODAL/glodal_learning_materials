{
 "cells": [
  {
   "cell_type": "code",
   "execution_count": null,
   "metadata": {
    "_cell_guid": "b1076dfc-b9ad-4769-8c92-a6c4dae69d19",
    "_uuid": "8f2839f25d086af736a60e9eeb907d3b93b6e0e5",
    "execution": {
     "iopub.execute_input": "2022-09-01T02:54:23.526846Z",
     "iopub.status.busy": "2022-09-01T02:54:23.525667Z",
     "iopub.status.idle": "2022-09-01T02:54:23.726988Z",
     "shell.execute_reply": "2022-09-01T02:54:23.725485Z",
     "shell.execute_reply.started": "2022-09-01T02:54:23.526138Z"
    }
   },
   "outputs": [],
   "source": [
    "import numpy as np # linear algebra\n",
    "import pandas as pd # data processing, CSV file I/O (e.g. pd.read_csv)\n",
    "import os\n",
    "from matplotlib import pyplot as plt \n",
    "import cv2 as cv"
   ]
  },
  {
   "cell_type": "markdown",
   "metadata": {},
   "source": [
    "# Introduction\n",
    "\n",
    "In this notebook I will be using YOLO V7 for object detection. This notebook will be different from most of my other notebooks in that I will be cloning a github repo and working with the kaggle filesystem to make this functional.\n",
    "\n",
    "I am using YoloV7 from https://github.com/WongKinYiu/yolov7 There are actually multiple claims to YOLO Version 7 due to seven being a lucky number. I have chosen this one principally because I find it the most user friendly of the claimants.\n",
    "\n",
    "The repo I have chosen is an implementation of https://arxiv.org/abs/2207.02696\n",
    "\n",
    "This notebook is very similar to my previous notebook with YOLO version 5 at: https://www.kaggle.com/code/taranmarley/yolo-v5-object-detection/\n",
    "I am not entirely trying to be original though I have made some iterative improvements to the notebook beyond using a new version of YOLO"
   ]
  },
  {
   "cell_type": "markdown",
   "metadata": {},
   "source": [
    "# Look at Some Images"
   ]
  },
  {
   "cell_type": "code",
   "execution_count": null,
   "metadata": {
    "execution": {
     "iopub.execute_input": "2022-09-01T02:54:23.733495Z",
     "iopub.status.busy": "2022-09-01T02:54:23.733115Z",
     "iopub.status.idle": "2022-09-01T02:54:24.657081Z",
     "shell.execute_reply": "2022-09-01T02:54:24.655877Z",
     "shell.execute_reply.started": "2022-09-01T02:54:23.733459Z"
    }
   },
   "outputs": [],
   "source": [
    "fig,ax = plt.subplots(1,4,figsize=(10,5))\n",
    "image = cv.imread(\"../input/sptire/train/images/14_19_l_jpg.rf.8323d9f848377e32ca451017a3a80731.jpg\")\n",
    "ax[0].imshow(image)\n",
    "image = cv.imread(\"../input/sptire/train/images/IMG_0719_JPEG.rf.05f197445c4a42854e0b1f308fb4e636.jpg\")\n",
    "ax[1].imshow(image)\n",
    "image = cv.imread(\"../input/sptire/train/images/IMG_0680_JPEG.rf.560c49e01182db8356989ddc604557fb.jpg\")\n",
    "ax[2].imshow(image)\n",
    "image = cv.imread(\"../input/sptire/train/images/IMG_0701_JPEG.rf.d5ae66ab383142ef5d59b0454a19fdce.jpg\")\n",
    "ax[3].imshow(image)\n",
    "fig.show()"
   ]
  },
  {
   "cell_type": "markdown",
   "metadata": {},
   "source": [
    "# Create the File System"
   ]
  },
  {
   "cell_type": "code",
   "execution_count": null,
   "metadata": {
    "execution": {
     "iopub.execute_input": "2022-09-01T02:54:24.65956Z",
     "iopub.status.busy": "2022-09-01T02:54:24.658565Z",
     "iopub.status.idle": "2022-09-01T02:54:25.887161Z",
     "shell.execute_reply": "2022-09-01T02:54:25.885718Z",
     "shell.execute_reply.started": "2022-09-01T02:54:24.659522Z"
    }
   },
   "outputs": [],
   "source": [
    "%cd ../\n",
    "!mkdir tmp\n",
    "%cd tmp"
   ]
  },
  {
   "cell_type": "markdown",
   "metadata": {},
   "source": [
    "# Download YoloV7"
   ]
  },
  {
   "cell_type": "code",
   "execution_count": null,
   "metadata": {
    "execution": {
     "iopub.execute_input": "2022-09-01T02:54:25.892905Z",
     "iopub.status.busy": "2022-09-01T02:54:25.892527Z",
     "iopub.status.idle": "2022-09-01T02:54:46.049872Z",
     "shell.execute_reply": "2022-09-01T02:54:46.048756Z",
     "shell.execute_reply.started": "2022-09-01T02:54:25.892873Z"
    }
   },
   "outputs": [],
   "source": [
    "# Download YOLOv7\n",
    "!git clone https://github.com/WongKinYiu/yolov7 # clone repo\n",
    "%cd yolov7\n",
    "# Install dependencies\n",
    "%pip install -qr requirements.txt  # install dependencies\n",
    "\n",
    "%cd ../\n",
    "import torch\n",
    "print(f\"Setup complete. Using torch {torch.__version__} ({torch.cuda.get_device_properties(0).name if torch.cuda.is_available() else 'CPU'})\")"
   ]
  },
  {
   "cell_type": "markdown",
   "metadata": {},
   "source": [
    "# New YAML file\n",
    "\n",
    "Create new Yaml file to fit the file system. "
   ]
  },
  {
   "cell_type": "code",
   "execution_count": null,
   "metadata": {
    "execution": {
     "iopub.execute_input": "2022-09-01T02:54:46.052598Z",
     "iopub.status.busy": "2022-09-01T02:54:46.051557Z",
     "iopub.status.idle": "2022-09-01T02:54:51.706464Z",
     "shell.execute_reply": "2022-09-01T02:54:51.705206Z",
     "shell.execute_reply.started": "2022-09-01T02:54:46.052553Z"
    }
   },
   "outputs": [],
   "source": [
    "%cp -r ../input/sptire /kaggle/tmp"
   ]
  },
  {
   "cell_type": "code",
   "execution_count": null,
   "metadata": {
    "execution": {
     "iopub.execute_input": "2022-09-01T02:54:51.709769Z",
     "iopub.status.busy": "2022-09-01T02:54:51.709019Z",
     "iopub.status.idle": "2022-09-01T02:54:51.752993Z",
     "shell.execute_reply": "2022-09-01T02:54:51.752147Z",
     "shell.execute_reply.started": "2022-09-01T02:54:51.709727Z"
    }
   },
   "outputs": [],
   "source": [
    "# Create .yaml file \n",
    "import yaml\n",
    "\n",
    "data_yaml = dict(\n",
    "    train = '../sptire/train',\n",
    "    val = '../sptire/valid',\n",
    "    nc = 1,\n",
    "    names = ['Tire']\n",
    ")\n",
    "\n",
    "# Note that I am creating the file in the yolov5/data/ directory.\n",
    "with open('data.yaml', 'w') as outfile:\n",
    "    yaml.dump(data_yaml, outfile, default_flow_style=True)"
   ]
  },
  {
   "cell_type": "code",
   "execution_count": null,
   "metadata": {
    "execution": {
     "iopub.execute_input": "2022-09-01T02:54:51.75476Z",
     "iopub.status.busy": "2022-09-01T02:54:51.754418Z",
     "iopub.status.idle": "2022-09-01T02:54:51.765229Z",
     "shell.execute_reply": "2022-09-01T02:54:51.764058Z",
     "shell.execute_reply.started": "2022-09-01T02:54:51.754727Z"
    }
   },
   "outputs": [],
   "source": [
    "%cd yolov7"
   ]
  },
  {
   "cell_type": "markdown",
   "metadata": {},
   "source": [
    "# Train the YoloV7 Model"
   ]
  },
  {
   "cell_type": "code",
   "execution_count": null,
   "metadata": {
    "execution": {
     "iopub.execute_input": "2022-09-01T02:54:51.76748Z",
     "iopub.status.busy": "2022-09-01T02:54:51.766745Z"
    }
   },
   "outputs": [],
   "source": [
    "!wandb disabled\n",
    "!python train.py --img 416 --batch 16 --epochs 50 --data ../data.yaml  --weights 'yolov7.pt'"
   ]
  },
  {
   "cell_type": "markdown",
   "metadata": {},
   "source": [
    "# Look at Training Results"
   ]
  },
  {
   "cell_type": "code",
   "execution_count": null,
   "metadata": {},
   "outputs": [],
   "source": [
    "img = cv.imread(\"runs/train/exp/results.png\")\n",
    "plt.figure(figsize=(15, 15))\n",
    "plt.imshow(img)"
   ]
  },
  {
   "cell_type": "markdown",
   "metadata": {},
   "source": [
    "# Model Validation Output\n",
    "\n",
    "Let's look at how the model performed on a validation batch"
   ]
  },
  {
   "cell_type": "code",
   "execution_count": null,
   "metadata": {},
   "outputs": [],
   "source": [
    "img = cv.imread(\"runs/train/exp/test_batch2_pred.jpg\")\n",
    "plt.figure(figsize=(15, 15))\n",
    "plt.imshow(img)"
   ]
  },
  {
   "cell_type": "markdown",
   "metadata": {},
   "source": [
    "# Test the model\n",
    "\n",
    "This will test the model we have created against an image it has not seen previously."
   ]
  },
  {
   "cell_type": "code",
   "execution_count": null,
   "metadata": {},
   "outputs": [],
   "source": [
    "!python detect.py --source ../../input/sptire/test/images/IMG_0672_JPEG.rf.c37833de9c2310cfba797a83f239d3c1.jpg --weights runs/train/exp/weights/best.pt"
   ]
  },
  {
   "cell_type": "code",
   "execution_count": null,
   "metadata": {},
   "outputs": [],
   "source": [
    "img = cv.imread(\"runs/detect/exp/IMG_0672_JPEG.rf.c37833de9c2310cfba797a83f239d3c1.jpg\")\n",
    "plt.imshow(img)"
   ]
  },
  {
   "cell_type": "markdown",
   "metadata": {},
   "source": [
    "# Conclusion\n",
    "\n",
    "The results from this weren't better than my previous attempts with YOLO V5. This however isn't a scientific comparison of the two and any important project would be wise to use a variety of available approaches until they find the best one for that specific use case. \n",
    "\n",
    "A real comparison of the techniques would need to take into account differences in parameter size, speed, memory usage, accuracy and a variety of further factors over many runs to determine which is working better with the dataset. \n",
    "\n",
    "This however is just an exploration of YOLO V7 and I commend that they made it user friendly by providing documentation, keeping it similar to V5 and Google notebooks of it being used. "
   ]
  }
 ],
 "metadata": {
  "kaggle": {
   "accelerator": "gpu",
   "dataSources": [
    {
     "datasetId": 2299617,
     "sourceId": 3868701,
     "sourceType": "datasetVersion"
    }
   ],
   "dockerImageVersionId": 30235,
   "isGpuEnabled": true,
   "isInternetEnabled": false,
   "language": "python",
   "sourceType": "notebook"
  },
  "kernelspec": {
   "display_name": "Python 3 (ipykernel)",
   "language": "python",
   "name": "python3"
  },
  "language_info": {
   "codemirror_mode": {
    "name": "ipython",
    "version": 3
   },
   "file_extension": ".py",
   "mimetype": "text/x-python",
   "name": "python",
   "nbconvert_exporter": "python",
   "pygments_lexer": "ipython3",
   "version": "3.11.6"
  }
 },
 "nbformat": 4,
 "nbformat_minor": 4
}
