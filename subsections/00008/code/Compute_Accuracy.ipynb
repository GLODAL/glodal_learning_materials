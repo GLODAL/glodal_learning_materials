{
 "cells": [
  {
   "cell_type": "markdown",
   "id": "1c240267-f8ce-434f-8135-09a1f978c6fd",
   "metadata": {},
   "source": [
    "# Accuracy Assessment"
   ]
  },
  {
   "cell_type": "markdown",
   "id": "644e0194-d0a4-4d8b-ad04-94fcd2d5738a",
   "metadata": {},
   "source": [
    "## Installing Required Libraries\n",
    "\n",
    "geopandas: Used for handling geographic data (such as shapefiles).\n",
    "rasterio: Used for reading and analyzing raster data (such as satellite imagery)."
   ]
  },
  {
   "cell_type": "code",
   "execution_count": 1,
   "id": "4c33d9ae-6671-463a-a0e6-021a6c94cb37",
   "metadata": {},
   "outputs": [
    {
     "name": "stdout",
     "output_type": "stream",
     "text": [
      "Requirement already satisfied: geopandas in /opt/conda/lib/python3.11/site-packages (1.0.1)\n",
      "Requirement already satisfied: numpy>=1.22 in /opt/conda/lib/python3.11/site-packages (from geopandas) (1.24.4)\n",
      "Requirement already satisfied: pyogrio>=0.7.2 in /opt/conda/lib/python3.11/site-packages (from geopandas) (0.9.0)\n",
      "Requirement already satisfied: packaging in /opt/conda/lib/python3.11/site-packages (from geopandas) (23.2)\n",
      "Requirement already satisfied: pandas>=1.4.0 in /opt/conda/lib/python3.11/site-packages (from geopandas) (2.1.1)\n",
      "Requirement already satisfied: pyproj>=3.3.0 in /opt/conda/lib/python3.11/site-packages (from geopandas) (3.6.1)\n",
      "Requirement already satisfied: shapely>=2.0.0 in /opt/conda/lib/python3.11/site-packages (from geopandas) (2.0.6)\n",
      "Requirement already satisfied: python-dateutil>=2.8.2 in /opt/conda/lib/python3.11/site-packages (from pandas>=1.4.0->geopandas) (2.8.2)\n",
      "Requirement already satisfied: pytz>=2020.1 in /opt/conda/lib/python3.11/site-packages (from pandas>=1.4.0->geopandas) (2023.3.post1)\n",
      "Requirement already satisfied: tzdata>=2022.1 in /opt/conda/lib/python3.11/site-packages (from pandas>=1.4.0->geopandas) (2023.3)\n",
      "Requirement already satisfied: certifi in /opt/conda/lib/python3.11/site-packages (from pyogrio>=0.7.2->geopandas) (2023.7.22)\n",
      "Requirement already satisfied: six>=1.5 in /opt/conda/lib/python3.11/site-packages (from python-dateutil>=2.8.2->pandas>=1.4.0->geopandas) (1.16.0)\n",
      "Note: you may need to restart the kernel to use updated packages.\n"
     ]
    }
   ],
   "source": [
    "pip install geopandas"
   ]
  },
  {
   "cell_type": "code",
   "execution_count": 2,
   "id": "c1848131-ecee-42f6-9dde-964cb695befb",
   "metadata": {},
   "outputs": [
    {
     "name": "stdout",
     "output_type": "stream",
     "text": [
      "Requirement already satisfied: rasterio in /opt/conda/lib/python3.11/site-packages (1.3.11)\n",
      "Requirement already satisfied: affine in /opt/conda/lib/python3.11/site-packages (from rasterio) (2.4.0)\n",
      "Requirement already satisfied: attrs in /opt/conda/lib/python3.11/site-packages (from rasterio) (23.1.0)\n",
      "Requirement already satisfied: certifi in /opt/conda/lib/python3.11/site-packages (from rasterio) (2023.7.22)\n",
      "Requirement already satisfied: click>=4.0 in /opt/conda/lib/python3.11/site-packages (from rasterio) (8.1.7)\n",
      "Requirement already satisfied: cligj>=0.5 in /opt/conda/lib/python3.11/site-packages (from rasterio) (0.7.2)\n",
      "Requirement already satisfied: numpy in /opt/conda/lib/python3.11/site-packages (from rasterio) (1.24.4)\n",
      "Requirement already satisfied: snuggs>=1.4.1 in /opt/conda/lib/python3.11/site-packages (from rasterio) (1.4.7)\n",
      "Requirement already satisfied: click-plugins in /opt/conda/lib/python3.11/site-packages (from rasterio) (1.1.1)\n",
      "Requirement already satisfied: setuptools in /opt/conda/lib/python3.11/site-packages (from rasterio) (68.2.2)\n",
      "Requirement already satisfied: pyparsing>=2.1.6 in /opt/conda/lib/python3.11/site-packages (from snuggs>=1.4.1->rasterio) (3.1.1)\n",
      "Note: you may need to restart the kernel to use updated packages.\n"
     ]
    }
   ],
   "source": [
    "pip install rasterio"
   ]
  },
  {
   "cell_type": "markdown",
   "id": "7e31d472-efaa-403e-a12d-b27f3faaf12a",
   "metadata": {},
   "source": [
    "## Importing Libraries\n",
    "\n",
    "- geopandas: Alias gpd is used to work with vector data (shapefiles).\n",
    "- rasterio: Reads raster data (e.g., satellite images).\n",
    "- numpy: Alias np, provides efficient array handling.\n",
    "- sklearn.metrics: For calculating accuracy metrics like overall accuracy, Kappa Coefficient, and confusion matrix."
   ]
  },
  {
   "cell_type": "code",
   "execution_count": 1,
   "id": "d862406c-b50c-4119-8218-500de9708b0a",
   "metadata": {},
   "outputs": [],
   "source": [
    "# Import required libraries\n",
    "import geopandas as gpd\n",
    "import rasterio\n",
    "from rasterio import features\n",
    "import numpy as np\n",
    "from sklearn.metrics import accuracy_score, cohen_kappa_score, confusion_matrix"
   ]
  },
  {
   "cell_type": "markdown",
   "id": "cef50a34-7ec2-414c-8648-f6af48663ede",
   "metadata": {},
   "source": [
    "## Loading Vector Data (Ground Truth)\n",
    "\n",
    "- What it does: Loads the vector data (shapefile) containing ground truth points.\n",
    "    - gpd.read_file(): Reads the shapefile, which contains points representing ground truth locations (e.g., actual land cover type).\n",
    "    - vector_data: The loaded shapefile is stored in a GeoDataFrame. It contains attributes like geometry (the point locations) and other columns (e.g., ground truth labels).\n",
    "\n",
    "\n",
    "\n",
    "NOTE: In this case, I create ground truth data by creating 40 random sampling points in area of ​​interest including 20 points for non-water class (class = 0) and 20 points for water class (class = 1)."
   ]
  },
  {
   "cell_type": "code",
   "execution_count": 2,
   "id": "37d1c687-0bc2-47e9-85ad-8d619fec6a86",
   "metadata": {},
   "outputs": [],
   "source": [
    "# Load vector data (ground truth points)\n",
    "vector_data = gpd.read_file(\"/home/jovyan/shared/Arissara/ALOS-2/sample-points/Indo_Random_sampling_points.shp\")\n"
   ]
  },
  {
   "cell_type": "markdown",
   "id": "5e27ee16-b67f-44a2-a157-0531fb284b81",
   "metadata": {},
   "source": [
    "## Loading the Raster File\n",
    "\n",
    "- What it does: Opens and reads the raster file (e.g., satellite image).\n",
    "    - rasterio.open(): Opens the raster file for reading.\n",
    "    - src.read(1): Reads the first band of the raster data (many satellite images contain multiple bands).\n",
    "    - raster_data: The pixel values (as an array) of the raster are stored in this variable.\n",
    "\n",
    "#### Sampling Raster Values at Vector Point Locations\n",
    "- What it does: Extracts the raster values at the exact locations of the ground truth points.\n",
    "    - vector_data.geometry.x and vector_data.geometry.y: Accesses the X and Y coordinates of the vector points.\n",
    "    - coords: Creates a list of tuples representing the coordinates (x, y) for each ground truth point.\n",
    "    - src.sample(coords): Samples (extracts) the raster values at the given coordinates.\n",
    "raster_values: Contains the sampled pixel values from the raster at the ground truth locations.\n"
   ]
  },
  {
   "cell_type": "code",
   "execution_count": 3,
   "id": "42cfd0d0-0b45-4424-878e-16e54ae8f905",
   "metadata": {},
   "outputs": [],
   "source": [
    "# Load raster file\n",
    "with rasterio.open(\"/home/jovyan/shared/Arissara/ALOS-2/Output/rm-noise_lee_calib_N01E102_sl_HH_water_extent_mask.tif\") as src:\n",
    "    # Read raster data\n",
    "    raster_data = src.read(1)\n",
    "    # Get raster values at ground truth points\n",
    "    coords = [(x, y) for x, y in zip(vector_data.geometry.x, vector_data.geometry.y)]\n",
    "    raster_values = [val[0] for val in src.sample(coords)]"
   ]
  },
  {
   "cell_type": "markdown",
   "id": "28aa87eb-da83-4f68-8eb8-b689a8f9b9e7",
   "metadata": {},
   "source": [
    "## Extracting Ground Truth Labels\n",
    "\n",
    "- What it does: Extracts the ground truth labels from the shapefile (vector data).\n",
    "    - vector_data['class']: Assumes the ground truth labels (e.g., 0 = non-water, 1 = water) are stored in a column named class.\n",
    "    - .values: Converts the column into a NumPy array.\n"
   ]
  },
  {
   "cell_type": "code",
   "execution_count": 4,
   "id": "717ce470-fd48-4314-8109-221ef49f802d",
   "metadata": {},
   "outputs": [],
   "source": [
    "# Extract ground truth labels (assuming 'class' column holds 0/1 labels)\n",
    "ground_truth_labels = vector_data['class'].values"
   ]
  },
  {
   "cell_type": "markdown",
   "id": "d86c9c5b-6f64-4976-b485-93535abd878c",
   "metadata": {},
   "source": [
    "## Ensuring Arrays are NumPy Arrays\n",
    "\n",
    "- What it does: Converts both lists to NumPy arrays for more efficient and accurate comparison operations.\n",
    "    - Why: Ensures that the ground truth and raster values can be processed efficiently by the metrics functions (like accuracy_score)."
   ]
  },
  {
   "cell_type": "code",
   "execution_count": 7,
   "id": "103231ff-bb6a-4abb-b59d-32c4e08bdafc",
   "metadata": {},
   "outputs": [],
   "source": [
    "# Ensure both arrays are numpy arrays for correct comparison\n",
    "raster_values = np.array(raster_values)\n",
    "ground_truth_labels = np.array(ground_truth_labels)"
   ]
  },
  {
   "cell_type": "markdown",
   "id": "5467387d-32f6-46b7-9b22-7b4e0d3be5d7",
   "metadata": {},
   "source": [
    "## Computing Overall Accuracy and Kappa Coefficient\n",
    "\n",
    "- What it does: Calculates two important accuracy metrics:\n",
    "    - accuracy_score(): Compares the ground truth labels to the sampled raster values and computes the overall accuracy (i.e., the proportion of correct predictions).\n",
    "    - cohen_kappa_score(): Measures the agreement between the ground truth and raster values, accounting for the possibility of agreement by chance (more robust than simple accuracy).\n",
    " \n",
    "\n",
    "## Computing Confusion Matrix\n",
    "- What it does: Computes the confusion matrix, which gives a detailed breakdown of:\n",
    "    - True Positives (TP), True Negatives (TN), False Positives (FP), and False Negatives (FN).\n",
    "    - confusion_matrix(): Compares the ground truth and raster values, returning a matrix showing how many values were correctly or incorrectly classified."
   ]
  },
  {
   "cell_type": "code",
   "execution_count": 6,
   "id": "5d0e3d45-c0d6-4325-99e9-77f351ccdbf5",
   "metadata": {},
   "outputs": [
    {
     "name": "stdout",
     "output_type": "stream",
     "text": [
      "Overall Accuracy: 1.0\n",
      "Kappa Coefficient: 1.0\n",
      "Confusion Matrix:\n",
      "[[20  0]\n",
      " [ 0 20]]\n"
     ]
    }
   ],
   "source": [
    "# Compute accuracy metrics\n",
    "overall_accuracy = accuracy_score(ground_truth_labels, raster_values)\n",
    "kappa = cohen_kappa_score(ground_truth_labels, raster_values)\n",
    "\n",
    "print(f\"Overall Accuracy: {overall_accuracy}\")\n",
    "print(f\"Kappa Coefficient: {kappa}\")\n",
    "\n",
    "# Compute confusion matrix\n",
    "conf_matrix = confusion_matrix(ground_truth_labels, raster_values)\n",
    "print(\"Confusion Matrix:\")\n",
    "print(conf_matrix)"
   ]
  },
  {
   "cell_type": "markdown",
   "id": "cfda40c2-951a-49fc-a94b-f409464f0f08",
   "metadata": {},
   "source": [
    "Here's what it means:\n",
    "\n",
    "- 20 (True Negative, TN): 20 points were correctly classified as non-water (0).\n",
    "- 0 (False Positive, FP): No points were incorrectly classified as water (1) when they should have been non-water (0).\n",
    "- 0 (False Negative, FN): No points were incorrectly classified as non-water (0) when they should have been water (1).\n",
    "- 20 (True Positive, TP): 20 points were correctly classified as water (1)."
   ]
  },
  {
   "cell_type": "markdown",
   "id": "852da867-83c8-4851-bf38-01d03aeb93e2",
   "metadata": {},
   "source": [
    "## Summary\n",
    "\n",
    "- The code samples raster data at ground truth locations from the shapefile.\n",
    "- It compares the sampled raster values with the ground truth labels to compute accuracy metrics (Overall Accuracy, Kappa Coefficient) and a confusion matrix.\n",
    "- This provides insight into how well the raster data (predicted values) matches the ground truth.\n"
   ]
  },
  {
   "cell_type": "code",
   "execution_count": null,
   "id": "14416cac-2f75-4946-a78f-e4de3cd498da",
   "metadata": {},
   "outputs": [],
   "source": []
  }
 ],
 "metadata": {
  "kernelspec": {
   "display_name": "Python 3 (ipykernel)",
   "language": "python",
   "name": "python3"
  },
  "language_info": {
   "codemirror_mode": {
    "name": "ipython",
    "version": 3
   },
   "file_extension": ".py",
   "mimetype": "text/x-python",
   "name": "python",
   "nbconvert_exporter": "python",
   "pygments_lexer": "ipython3",
   "version": "3.11.6"
  }
 },
 "nbformat": 4,
 "nbformat_minor": 5
}
